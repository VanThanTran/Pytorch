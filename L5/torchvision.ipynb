{
  "nbformat": 4,
  "nbformat_minor": 0,
  "metadata": {
    "colab": {
      "name": "torchvision.ipynb",
      "provenance": []
    },
    "kernelspec": {
      "name": "python3",
      "display_name": "Python 3"
    },
    "language_info": {
      "name": "python"
    },
    "widgets": {
      "application/vnd.jupyter.widget-state+json": {
        "a93d973694bb4234b4cc4fdfefd685bf": {
          "model_module": "@jupyter-widgets/controls",
          "model_name": "HBoxModel",
          "model_module_version": "1.5.0",
          "state": {
            "_view_name": "HBoxView",
            "_dom_classes": [],
            "_model_name": "HBoxModel",
            "_view_module": "@jupyter-widgets/controls",
            "_model_module_version": "1.5.0",
            "_view_count": null,
            "_view_module_version": "1.5.0",
            "box_style": "",
            "layout": "IPY_MODEL_a703ffa5a40641ea8ea047cac013bfcf",
            "_model_module": "@jupyter-widgets/controls",
            "children": [
              "IPY_MODEL_fc4f96c6d5174bf8aad04e2ab8a478df",
              "IPY_MODEL_a9c3c8b413924c97934dd528bbbc2de6",
              "IPY_MODEL_9b72ae56f60b401086becd01ec23ae3f"
            ]
          }
        },
        "a703ffa5a40641ea8ea047cac013bfcf": {
          "model_module": "@jupyter-widgets/base",
          "model_name": "LayoutModel",
          "model_module_version": "1.2.0",
          "state": {
            "_view_name": "LayoutView",
            "grid_template_rows": null,
            "right": null,
            "justify_content": null,
            "_view_module": "@jupyter-widgets/base",
            "overflow": null,
            "_model_module_version": "1.2.0",
            "_view_count": null,
            "flex_flow": null,
            "width": null,
            "min_width": null,
            "border": null,
            "align_items": null,
            "bottom": null,
            "_model_module": "@jupyter-widgets/base",
            "top": null,
            "grid_column": null,
            "overflow_y": null,
            "overflow_x": null,
            "grid_auto_flow": null,
            "grid_area": null,
            "grid_template_columns": null,
            "flex": null,
            "_model_name": "LayoutModel",
            "justify_items": null,
            "grid_row": null,
            "max_height": null,
            "align_content": null,
            "visibility": null,
            "align_self": null,
            "height": null,
            "min_height": null,
            "padding": null,
            "grid_auto_rows": null,
            "grid_gap": null,
            "max_width": null,
            "order": null,
            "_view_module_version": "1.2.0",
            "grid_template_areas": null,
            "object_position": null,
            "object_fit": null,
            "grid_auto_columns": null,
            "margin": null,
            "display": null,
            "left": null
          }
        },
        "fc4f96c6d5174bf8aad04e2ab8a478df": {
          "model_module": "@jupyter-widgets/controls",
          "model_name": "HTMLModel",
          "model_module_version": "1.5.0",
          "state": {
            "_view_name": "HTMLView",
            "style": "IPY_MODEL_731d81e7e6b24a948e02bc42abee9b55",
            "_dom_classes": [],
            "description": "",
            "_model_name": "HTMLModel",
            "placeholder": "​",
            "_view_module": "@jupyter-widgets/controls",
            "_model_module_version": "1.5.0",
            "value": "100%",
            "_view_count": null,
            "_view_module_version": "1.5.0",
            "description_tooltip": null,
            "_model_module": "@jupyter-widgets/controls",
            "layout": "IPY_MODEL_c9942406e78749a2b74dfe72f6652120"
          }
        },
        "a9c3c8b413924c97934dd528bbbc2de6": {
          "model_module": "@jupyter-widgets/controls",
          "model_name": "FloatProgressModel",
          "model_module_version": "1.5.0",
          "state": {
            "_view_name": "ProgressView",
            "style": "IPY_MODEL_2c320ab032f7456ba9ed7616671d07b6",
            "_dom_classes": [],
            "description": "",
            "_model_name": "FloatProgressModel",
            "bar_style": "success",
            "max": 102530333,
            "_view_module": "@jupyter-widgets/controls",
            "_model_module_version": "1.5.0",
            "value": 102530333,
            "_view_count": null,
            "_view_module_version": "1.5.0",
            "orientation": "horizontal",
            "min": 0,
            "description_tooltip": null,
            "_model_module": "@jupyter-widgets/controls",
            "layout": "IPY_MODEL_119c008153904e5798fa53d58a262843"
          }
        },
        "9b72ae56f60b401086becd01ec23ae3f": {
          "model_module": "@jupyter-widgets/controls",
          "model_name": "HTMLModel",
          "model_module_version": "1.5.0",
          "state": {
            "_view_name": "HTMLView",
            "style": "IPY_MODEL_e4d548d8ad0b4ec1b511d04b765bf6dd",
            "_dom_classes": [],
            "description": "",
            "_model_name": "HTMLModel",
            "placeholder": "​",
            "_view_module": "@jupyter-widgets/controls",
            "_model_module_version": "1.5.0",
            "value": " 97.8M/97.8M [00:03&lt;00:00, 21.2MB/s]",
            "_view_count": null,
            "_view_module_version": "1.5.0",
            "description_tooltip": null,
            "_model_module": "@jupyter-widgets/controls",
            "layout": "IPY_MODEL_824955be8623498ea9ab82aa902bac34"
          }
        },
        "731d81e7e6b24a948e02bc42abee9b55": {
          "model_module": "@jupyter-widgets/controls",
          "model_name": "DescriptionStyleModel",
          "model_module_version": "1.5.0",
          "state": {
            "_view_name": "StyleView",
            "_model_name": "DescriptionStyleModel",
            "description_width": "",
            "_view_module": "@jupyter-widgets/base",
            "_model_module_version": "1.5.0",
            "_view_count": null,
            "_view_module_version": "1.2.0",
            "_model_module": "@jupyter-widgets/controls"
          }
        },
        "c9942406e78749a2b74dfe72f6652120": {
          "model_module": "@jupyter-widgets/base",
          "model_name": "LayoutModel",
          "model_module_version": "1.2.0",
          "state": {
            "_view_name": "LayoutView",
            "grid_template_rows": null,
            "right": null,
            "justify_content": null,
            "_view_module": "@jupyter-widgets/base",
            "overflow": null,
            "_model_module_version": "1.2.0",
            "_view_count": null,
            "flex_flow": null,
            "width": null,
            "min_width": null,
            "border": null,
            "align_items": null,
            "bottom": null,
            "_model_module": "@jupyter-widgets/base",
            "top": null,
            "grid_column": null,
            "overflow_y": null,
            "overflow_x": null,
            "grid_auto_flow": null,
            "grid_area": null,
            "grid_template_columns": null,
            "flex": null,
            "_model_name": "LayoutModel",
            "justify_items": null,
            "grid_row": null,
            "max_height": null,
            "align_content": null,
            "visibility": null,
            "align_self": null,
            "height": null,
            "min_height": null,
            "padding": null,
            "grid_auto_rows": null,
            "grid_gap": null,
            "max_width": null,
            "order": null,
            "_view_module_version": "1.2.0",
            "grid_template_areas": null,
            "object_position": null,
            "object_fit": null,
            "grid_auto_columns": null,
            "margin": null,
            "display": null,
            "left": null
          }
        },
        "2c320ab032f7456ba9ed7616671d07b6": {
          "model_module": "@jupyter-widgets/controls",
          "model_name": "ProgressStyleModel",
          "model_module_version": "1.5.0",
          "state": {
            "_view_name": "StyleView",
            "_model_name": "ProgressStyleModel",
            "description_width": "",
            "_view_module": "@jupyter-widgets/base",
            "_model_module_version": "1.5.0",
            "_view_count": null,
            "_view_module_version": "1.2.0",
            "bar_color": null,
            "_model_module": "@jupyter-widgets/controls"
          }
        },
        "119c008153904e5798fa53d58a262843": {
          "model_module": "@jupyter-widgets/base",
          "model_name": "LayoutModel",
          "model_module_version": "1.2.0",
          "state": {
            "_view_name": "LayoutView",
            "grid_template_rows": null,
            "right": null,
            "justify_content": null,
            "_view_module": "@jupyter-widgets/base",
            "overflow": null,
            "_model_module_version": "1.2.0",
            "_view_count": null,
            "flex_flow": null,
            "width": null,
            "min_width": null,
            "border": null,
            "align_items": null,
            "bottom": null,
            "_model_module": "@jupyter-widgets/base",
            "top": null,
            "grid_column": null,
            "overflow_y": null,
            "overflow_x": null,
            "grid_auto_flow": null,
            "grid_area": null,
            "grid_template_columns": null,
            "flex": null,
            "_model_name": "LayoutModel",
            "justify_items": null,
            "grid_row": null,
            "max_height": null,
            "align_content": null,
            "visibility": null,
            "align_self": null,
            "height": null,
            "min_height": null,
            "padding": null,
            "grid_auto_rows": null,
            "grid_gap": null,
            "max_width": null,
            "order": null,
            "_view_module_version": "1.2.0",
            "grid_template_areas": null,
            "object_position": null,
            "object_fit": null,
            "grid_auto_columns": null,
            "margin": null,
            "display": null,
            "left": null
          }
        },
        "e4d548d8ad0b4ec1b511d04b765bf6dd": {
          "model_module": "@jupyter-widgets/controls",
          "model_name": "DescriptionStyleModel",
          "model_module_version": "1.5.0",
          "state": {
            "_view_name": "StyleView",
            "_model_name": "DescriptionStyleModel",
            "description_width": "",
            "_view_module": "@jupyter-widgets/base",
            "_model_module_version": "1.5.0",
            "_view_count": null,
            "_view_module_version": "1.2.0",
            "_model_module": "@jupyter-widgets/controls"
          }
        },
        "824955be8623498ea9ab82aa902bac34": {
          "model_module": "@jupyter-widgets/base",
          "model_name": "LayoutModel",
          "model_module_version": "1.2.0",
          "state": {
            "_view_name": "LayoutView",
            "grid_template_rows": null,
            "right": null,
            "justify_content": null,
            "_view_module": "@jupyter-widgets/base",
            "overflow": null,
            "_model_module_version": "1.2.0",
            "_view_count": null,
            "flex_flow": null,
            "width": null,
            "min_width": null,
            "border": null,
            "align_items": null,
            "bottom": null,
            "_model_module": "@jupyter-widgets/base",
            "top": null,
            "grid_column": null,
            "overflow_y": null,
            "overflow_x": null,
            "grid_auto_flow": null,
            "grid_area": null,
            "grid_template_columns": null,
            "flex": null,
            "_model_name": "LayoutModel",
            "justify_items": null,
            "grid_row": null,
            "max_height": null,
            "align_content": null,
            "visibility": null,
            "align_self": null,
            "height": null,
            "min_height": null,
            "padding": null,
            "grid_auto_rows": null,
            "grid_gap": null,
            "max_width": null,
            "order": null,
            "_view_module_version": "1.2.0",
            "grid_template_areas": null,
            "object_position": null,
            "object_fit": null,
            "grid_auto_columns": null,
            "margin": null,
            "display": null,
            "left": null
          }
        }
      }
    },
    "accelerator": "GPU"
  },
  "cells": [
    {
      "cell_type": "code",
      "metadata": {
        "id": "mTyl6Jgo82XB"
      },
      "source": [
        "import torch"
      ],
      "execution_count": 1,
      "outputs": []
    },
    {
      "cell_type": "code",
      "metadata": {
        "colab": {
          "base_uri": "https://localhost:8080/"
        },
        "id": "oroj6DSC8jCe",
        "outputId": "5238fcdc-8820-4600-f08b-01bcd626787b"
      },
      "source": [
        "from torchvision import models\n",
        "dir(models)"
      ],
      "execution_count": 2,
      "outputs": [
        {
          "output_type": "execute_result",
          "data": {
            "text/plain": [
              "['AlexNet',\n",
              " 'DenseNet',\n",
              " 'EfficientNet',\n",
              " 'GoogLeNet',\n",
              " 'GoogLeNetOutputs',\n",
              " 'Inception3',\n",
              " 'InceptionOutputs',\n",
              " 'MNASNet',\n",
              " 'MobileNetV2',\n",
              " 'MobileNetV3',\n",
              " 'RegNet',\n",
              " 'ResNet',\n",
              " 'ShuffleNetV2',\n",
              " 'SqueezeNet',\n",
              " 'VGG',\n",
              " '_GoogLeNetOutputs',\n",
              " '_InceptionOutputs',\n",
              " '__builtins__',\n",
              " '__cached__',\n",
              " '__doc__',\n",
              " '__file__',\n",
              " '__loader__',\n",
              " '__name__',\n",
              " '__package__',\n",
              " '__path__',\n",
              " '__spec__',\n",
              " '_utils',\n",
              " 'alexnet',\n",
              " 'densenet',\n",
              " 'densenet121',\n",
              " 'densenet161',\n",
              " 'densenet169',\n",
              " 'densenet201',\n",
              " 'detection',\n",
              " 'efficientnet',\n",
              " 'efficientnet_b0',\n",
              " 'efficientnet_b1',\n",
              " 'efficientnet_b2',\n",
              " 'efficientnet_b3',\n",
              " 'efficientnet_b4',\n",
              " 'efficientnet_b5',\n",
              " 'efficientnet_b6',\n",
              " 'efficientnet_b7',\n",
              " 'feature_extraction',\n",
              " 'googlenet',\n",
              " 'inception',\n",
              " 'inception_v3',\n",
              " 'mnasnet',\n",
              " 'mnasnet0_5',\n",
              " 'mnasnet0_75',\n",
              " 'mnasnet1_0',\n",
              " 'mnasnet1_3',\n",
              " 'mobilenet',\n",
              " 'mobilenet_v2',\n",
              " 'mobilenet_v3_large',\n",
              " 'mobilenet_v3_small',\n",
              " 'mobilenetv2',\n",
              " 'mobilenetv3',\n",
              " 'quantization',\n",
              " 'regnet',\n",
              " 'regnet_x_16gf',\n",
              " 'regnet_x_1_6gf',\n",
              " 'regnet_x_32gf',\n",
              " 'regnet_x_3_2gf',\n",
              " 'regnet_x_400mf',\n",
              " 'regnet_x_800mf',\n",
              " 'regnet_x_8gf',\n",
              " 'regnet_y_16gf',\n",
              " 'regnet_y_1_6gf',\n",
              " 'regnet_y_32gf',\n",
              " 'regnet_y_3_2gf',\n",
              " 'regnet_y_400mf',\n",
              " 'regnet_y_800mf',\n",
              " 'regnet_y_8gf',\n",
              " 'resnet',\n",
              " 'resnet101',\n",
              " 'resnet152',\n",
              " 'resnet18',\n",
              " 'resnet34',\n",
              " 'resnet50',\n",
              " 'resnext101_32x8d',\n",
              " 'resnext50_32x4d',\n",
              " 'segmentation',\n",
              " 'shufflenet_v2_x0_5',\n",
              " 'shufflenet_v2_x1_0',\n",
              " 'shufflenet_v2_x1_5',\n",
              " 'shufflenet_v2_x2_0',\n",
              " 'shufflenetv2',\n",
              " 'squeezenet',\n",
              " 'squeezenet1_0',\n",
              " 'squeezenet1_1',\n",
              " 'vgg',\n",
              " 'vgg11',\n",
              " 'vgg11_bn',\n",
              " 'vgg13',\n",
              " 'vgg13_bn',\n",
              " 'vgg16',\n",
              " 'vgg16_bn',\n",
              " 'vgg19',\n",
              " 'vgg19_bn',\n",
              " 'video',\n",
              " 'wide_resnet101_2',\n",
              " 'wide_resnet50_2']"
            ]
          },
          "metadata": {},
          "execution_count": 2
        }
      ]
    },
    {
      "cell_type": "code",
      "metadata": {
        "colab": {
          "base_uri": "https://localhost:8080/",
          "height": 66,
          "referenced_widgets": [
            "a93d973694bb4234b4cc4fdfefd685bf",
            "a703ffa5a40641ea8ea047cac013bfcf",
            "fc4f96c6d5174bf8aad04e2ab8a478df",
            "a9c3c8b413924c97934dd528bbbc2de6",
            "9b72ae56f60b401086becd01ec23ae3f",
            "731d81e7e6b24a948e02bc42abee9b55",
            "c9942406e78749a2b74dfe72f6652120",
            "2c320ab032f7456ba9ed7616671d07b6",
            "119c008153904e5798fa53d58a262843",
            "e4d548d8ad0b4ec1b511d04b765bf6dd",
            "824955be8623498ea9ab82aa902bac34"
          ]
        },
        "id": "Sz7gXZtL84Tc",
        "outputId": "ce3150c7-09d6-4de3-f2f1-6e6cdcc19e4f"
      },
      "source": [
        "resnet = models.resnet50(pretrained=True)"
      ],
      "execution_count": 3,
      "outputs": [
        {
          "output_type": "stream",
          "name": "stderr",
          "text": [
            "Downloading: \"https://download.pytorch.org/models/resnet50-0676ba61.pth\" to /root/.cache/torch/hub/checkpoints/resnet50-0676ba61.pth\n"
          ]
        },
        {
          "output_type": "display_data",
          "data": {
            "application/vnd.jupyter.widget-view+json": {
              "model_id": "a93d973694bb4234b4cc4fdfefd685bf",
              "version_minor": 0,
              "version_major": 2
            },
            "text/plain": [
              "  0%|          | 0.00/97.8M [00:00<?, ?B/s]"
            ]
          },
          "metadata": {}
        }
      ]
    },
    {
      "cell_type": "code",
      "metadata": {
        "colab": {
          "base_uri": "https://localhost:8080/"
        },
        "id": "XjzDDLN-8u-u",
        "outputId": "d1ac69b0-1a2c-4ba9-dd2f-ea90c9e4dc48"
      },
      "source": [
        "print(resnet)"
      ],
      "execution_count": 4,
      "outputs": [
        {
          "output_type": "stream",
          "name": "stdout",
          "text": [
            "ResNet(\n",
            "  (conv1): Conv2d(3, 64, kernel_size=(7, 7), stride=(2, 2), padding=(3, 3), bias=False)\n",
            "  (bn1): BatchNorm2d(64, eps=1e-05, momentum=0.1, affine=True, track_running_stats=True)\n",
            "  (relu): ReLU(inplace=True)\n",
            "  (maxpool): MaxPool2d(kernel_size=3, stride=2, padding=1, dilation=1, ceil_mode=False)\n",
            "  (layer1): Sequential(\n",
            "    (0): Bottleneck(\n",
            "      (conv1): Conv2d(64, 64, kernel_size=(1, 1), stride=(1, 1), bias=False)\n",
            "      (bn1): BatchNorm2d(64, eps=1e-05, momentum=0.1, affine=True, track_running_stats=True)\n",
            "      (conv2): Conv2d(64, 64, kernel_size=(3, 3), stride=(1, 1), padding=(1, 1), bias=False)\n",
            "      (bn2): BatchNorm2d(64, eps=1e-05, momentum=0.1, affine=True, track_running_stats=True)\n",
            "      (conv3): Conv2d(64, 256, kernel_size=(1, 1), stride=(1, 1), bias=False)\n",
            "      (bn3): BatchNorm2d(256, eps=1e-05, momentum=0.1, affine=True, track_running_stats=True)\n",
            "      (relu): ReLU(inplace=True)\n",
            "      (downsample): Sequential(\n",
            "        (0): Conv2d(64, 256, kernel_size=(1, 1), stride=(1, 1), bias=False)\n",
            "        (1): BatchNorm2d(256, eps=1e-05, momentum=0.1, affine=True, track_running_stats=True)\n",
            "      )\n",
            "    )\n",
            "    (1): Bottleneck(\n",
            "      (conv1): Conv2d(256, 64, kernel_size=(1, 1), stride=(1, 1), bias=False)\n",
            "      (bn1): BatchNorm2d(64, eps=1e-05, momentum=0.1, affine=True, track_running_stats=True)\n",
            "      (conv2): Conv2d(64, 64, kernel_size=(3, 3), stride=(1, 1), padding=(1, 1), bias=False)\n",
            "      (bn2): BatchNorm2d(64, eps=1e-05, momentum=0.1, affine=True, track_running_stats=True)\n",
            "      (conv3): Conv2d(64, 256, kernel_size=(1, 1), stride=(1, 1), bias=False)\n",
            "      (bn3): BatchNorm2d(256, eps=1e-05, momentum=0.1, affine=True, track_running_stats=True)\n",
            "      (relu): ReLU(inplace=True)\n",
            "    )\n",
            "    (2): Bottleneck(\n",
            "      (conv1): Conv2d(256, 64, kernel_size=(1, 1), stride=(1, 1), bias=False)\n",
            "      (bn1): BatchNorm2d(64, eps=1e-05, momentum=0.1, affine=True, track_running_stats=True)\n",
            "      (conv2): Conv2d(64, 64, kernel_size=(3, 3), stride=(1, 1), padding=(1, 1), bias=False)\n",
            "      (bn2): BatchNorm2d(64, eps=1e-05, momentum=0.1, affine=True, track_running_stats=True)\n",
            "      (conv3): Conv2d(64, 256, kernel_size=(1, 1), stride=(1, 1), bias=False)\n",
            "      (bn3): BatchNorm2d(256, eps=1e-05, momentum=0.1, affine=True, track_running_stats=True)\n",
            "      (relu): ReLU(inplace=True)\n",
            "    )\n",
            "  )\n",
            "  (layer2): Sequential(\n",
            "    (0): Bottleneck(\n",
            "      (conv1): Conv2d(256, 128, kernel_size=(1, 1), stride=(1, 1), bias=False)\n",
            "      (bn1): BatchNorm2d(128, eps=1e-05, momentum=0.1, affine=True, track_running_stats=True)\n",
            "      (conv2): Conv2d(128, 128, kernel_size=(3, 3), stride=(2, 2), padding=(1, 1), bias=False)\n",
            "      (bn2): BatchNorm2d(128, eps=1e-05, momentum=0.1, affine=True, track_running_stats=True)\n",
            "      (conv3): Conv2d(128, 512, kernel_size=(1, 1), stride=(1, 1), bias=False)\n",
            "      (bn3): BatchNorm2d(512, eps=1e-05, momentum=0.1, affine=True, track_running_stats=True)\n",
            "      (relu): ReLU(inplace=True)\n",
            "      (downsample): Sequential(\n",
            "        (0): Conv2d(256, 512, kernel_size=(1, 1), stride=(2, 2), bias=False)\n",
            "        (1): BatchNorm2d(512, eps=1e-05, momentum=0.1, affine=True, track_running_stats=True)\n",
            "      )\n",
            "    )\n",
            "    (1): Bottleneck(\n",
            "      (conv1): Conv2d(512, 128, kernel_size=(1, 1), stride=(1, 1), bias=False)\n",
            "      (bn1): BatchNorm2d(128, eps=1e-05, momentum=0.1, affine=True, track_running_stats=True)\n",
            "      (conv2): Conv2d(128, 128, kernel_size=(3, 3), stride=(1, 1), padding=(1, 1), bias=False)\n",
            "      (bn2): BatchNorm2d(128, eps=1e-05, momentum=0.1, affine=True, track_running_stats=True)\n",
            "      (conv3): Conv2d(128, 512, kernel_size=(1, 1), stride=(1, 1), bias=False)\n",
            "      (bn3): BatchNorm2d(512, eps=1e-05, momentum=0.1, affine=True, track_running_stats=True)\n",
            "      (relu): ReLU(inplace=True)\n",
            "    )\n",
            "    (2): Bottleneck(\n",
            "      (conv1): Conv2d(512, 128, kernel_size=(1, 1), stride=(1, 1), bias=False)\n",
            "      (bn1): BatchNorm2d(128, eps=1e-05, momentum=0.1, affine=True, track_running_stats=True)\n",
            "      (conv2): Conv2d(128, 128, kernel_size=(3, 3), stride=(1, 1), padding=(1, 1), bias=False)\n",
            "      (bn2): BatchNorm2d(128, eps=1e-05, momentum=0.1, affine=True, track_running_stats=True)\n",
            "      (conv3): Conv2d(128, 512, kernel_size=(1, 1), stride=(1, 1), bias=False)\n",
            "      (bn3): BatchNorm2d(512, eps=1e-05, momentum=0.1, affine=True, track_running_stats=True)\n",
            "      (relu): ReLU(inplace=True)\n",
            "    )\n",
            "    (3): Bottleneck(\n",
            "      (conv1): Conv2d(512, 128, kernel_size=(1, 1), stride=(1, 1), bias=False)\n",
            "      (bn1): BatchNorm2d(128, eps=1e-05, momentum=0.1, affine=True, track_running_stats=True)\n",
            "      (conv2): Conv2d(128, 128, kernel_size=(3, 3), stride=(1, 1), padding=(1, 1), bias=False)\n",
            "      (bn2): BatchNorm2d(128, eps=1e-05, momentum=0.1, affine=True, track_running_stats=True)\n",
            "      (conv3): Conv2d(128, 512, kernel_size=(1, 1), stride=(1, 1), bias=False)\n",
            "      (bn3): BatchNorm2d(512, eps=1e-05, momentum=0.1, affine=True, track_running_stats=True)\n",
            "      (relu): ReLU(inplace=True)\n",
            "    )\n",
            "  )\n",
            "  (layer3): Sequential(\n",
            "    (0): Bottleneck(\n",
            "      (conv1): Conv2d(512, 256, kernel_size=(1, 1), stride=(1, 1), bias=False)\n",
            "      (bn1): BatchNorm2d(256, eps=1e-05, momentum=0.1, affine=True, track_running_stats=True)\n",
            "      (conv2): Conv2d(256, 256, kernel_size=(3, 3), stride=(2, 2), padding=(1, 1), bias=False)\n",
            "      (bn2): BatchNorm2d(256, eps=1e-05, momentum=0.1, affine=True, track_running_stats=True)\n",
            "      (conv3): Conv2d(256, 1024, kernel_size=(1, 1), stride=(1, 1), bias=False)\n",
            "      (bn3): BatchNorm2d(1024, eps=1e-05, momentum=0.1, affine=True, track_running_stats=True)\n",
            "      (relu): ReLU(inplace=True)\n",
            "      (downsample): Sequential(\n",
            "        (0): Conv2d(512, 1024, kernel_size=(1, 1), stride=(2, 2), bias=False)\n",
            "        (1): BatchNorm2d(1024, eps=1e-05, momentum=0.1, affine=True, track_running_stats=True)\n",
            "      )\n",
            "    )\n",
            "    (1): Bottleneck(\n",
            "      (conv1): Conv2d(1024, 256, kernel_size=(1, 1), stride=(1, 1), bias=False)\n",
            "      (bn1): BatchNorm2d(256, eps=1e-05, momentum=0.1, affine=True, track_running_stats=True)\n",
            "      (conv2): Conv2d(256, 256, kernel_size=(3, 3), stride=(1, 1), padding=(1, 1), bias=False)\n",
            "      (bn2): BatchNorm2d(256, eps=1e-05, momentum=0.1, affine=True, track_running_stats=True)\n",
            "      (conv3): Conv2d(256, 1024, kernel_size=(1, 1), stride=(1, 1), bias=False)\n",
            "      (bn3): BatchNorm2d(1024, eps=1e-05, momentum=0.1, affine=True, track_running_stats=True)\n",
            "      (relu): ReLU(inplace=True)\n",
            "    )\n",
            "    (2): Bottleneck(\n",
            "      (conv1): Conv2d(1024, 256, kernel_size=(1, 1), stride=(1, 1), bias=False)\n",
            "      (bn1): BatchNorm2d(256, eps=1e-05, momentum=0.1, affine=True, track_running_stats=True)\n",
            "      (conv2): Conv2d(256, 256, kernel_size=(3, 3), stride=(1, 1), padding=(1, 1), bias=False)\n",
            "      (bn2): BatchNorm2d(256, eps=1e-05, momentum=0.1, affine=True, track_running_stats=True)\n",
            "      (conv3): Conv2d(256, 1024, kernel_size=(1, 1), stride=(1, 1), bias=False)\n",
            "      (bn3): BatchNorm2d(1024, eps=1e-05, momentum=0.1, affine=True, track_running_stats=True)\n",
            "      (relu): ReLU(inplace=True)\n",
            "    )\n",
            "    (3): Bottleneck(\n",
            "      (conv1): Conv2d(1024, 256, kernel_size=(1, 1), stride=(1, 1), bias=False)\n",
            "      (bn1): BatchNorm2d(256, eps=1e-05, momentum=0.1, affine=True, track_running_stats=True)\n",
            "      (conv2): Conv2d(256, 256, kernel_size=(3, 3), stride=(1, 1), padding=(1, 1), bias=False)\n",
            "      (bn2): BatchNorm2d(256, eps=1e-05, momentum=0.1, affine=True, track_running_stats=True)\n",
            "      (conv3): Conv2d(256, 1024, kernel_size=(1, 1), stride=(1, 1), bias=False)\n",
            "      (bn3): BatchNorm2d(1024, eps=1e-05, momentum=0.1, affine=True, track_running_stats=True)\n",
            "      (relu): ReLU(inplace=True)\n",
            "    )\n",
            "    (4): Bottleneck(\n",
            "      (conv1): Conv2d(1024, 256, kernel_size=(1, 1), stride=(1, 1), bias=False)\n",
            "      (bn1): BatchNorm2d(256, eps=1e-05, momentum=0.1, affine=True, track_running_stats=True)\n",
            "      (conv2): Conv2d(256, 256, kernel_size=(3, 3), stride=(1, 1), padding=(1, 1), bias=False)\n",
            "      (bn2): BatchNorm2d(256, eps=1e-05, momentum=0.1, affine=True, track_running_stats=True)\n",
            "      (conv3): Conv2d(256, 1024, kernel_size=(1, 1), stride=(1, 1), bias=False)\n",
            "      (bn3): BatchNorm2d(1024, eps=1e-05, momentum=0.1, affine=True, track_running_stats=True)\n",
            "      (relu): ReLU(inplace=True)\n",
            "    )\n",
            "    (5): Bottleneck(\n",
            "      (conv1): Conv2d(1024, 256, kernel_size=(1, 1), stride=(1, 1), bias=False)\n",
            "      (bn1): BatchNorm2d(256, eps=1e-05, momentum=0.1, affine=True, track_running_stats=True)\n",
            "      (conv2): Conv2d(256, 256, kernel_size=(3, 3), stride=(1, 1), padding=(1, 1), bias=False)\n",
            "      (bn2): BatchNorm2d(256, eps=1e-05, momentum=0.1, affine=True, track_running_stats=True)\n",
            "      (conv3): Conv2d(256, 1024, kernel_size=(1, 1), stride=(1, 1), bias=False)\n",
            "      (bn3): BatchNorm2d(1024, eps=1e-05, momentum=0.1, affine=True, track_running_stats=True)\n",
            "      (relu): ReLU(inplace=True)\n",
            "    )\n",
            "  )\n",
            "  (layer4): Sequential(\n",
            "    (0): Bottleneck(\n",
            "      (conv1): Conv2d(1024, 512, kernel_size=(1, 1), stride=(1, 1), bias=False)\n",
            "      (bn1): BatchNorm2d(512, eps=1e-05, momentum=0.1, affine=True, track_running_stats=True)\n",
            "      (conv2): Conv2d(512, 512, kernel_size=(3, 3), stride=(2, 2), padding=(1, 1), bias=False)\n",
            "      (bn2): BatchNorm2d(512, eps=1e-05, momentum=0.1, affine=True, track_running_stats=True)\n",
            "      (conv3): Conv2d(512, 2048, kernel_size=(1, 1), stride=(1, 1), bias=False)\n",
            "      (bn3): BatchNorm2d(2048, eps=1e-05, momentum=0.1, affine=True, track_running_stats=True)\n",
            "      (relu): ReLU(inplace=True)\n",
            "      (downsample): Sequential(\n",
            "        (0): Conv2d(1024, 2048, kernel_size=(1, 1), stride=(2, 2), bias=False)\n",
            "        (1): BatchNorm2d(2048, eps=1e-05, momentum=0.1, affine=True, track_running_stats=True)\n",
            "      )\n",
            "    )\n",
            "    (1): Bottleneck(\n",
            "      (conv1): Conv2d(2048, 512, kernel_size=(1, 1), stride=(1, 1), bias=False)\n",
            "      (bn1): BatchNorm2d(512, eps=1e-05, momentum=0.1, affine=True, track_running_stats=True)\n",
            "      (conv2): Conv2d(512, 512, kernel_size=(3, 3), stride=(1, 1), padding=(1, 1), bias=False)\n",
            "      (bn2): BatchNorm2d(512, eps=1e-05, momentum=0.1, affine=True, track_running_stats=True)\n",
            "      (conv3): Conv2d(512, 2048, kernel_size=(1, 1), stride=(1, 1), bias=False)\n",
            "      (bn3): BatchNorm2d(2048, eps=1e-05, momentum=0.1, affine=True, track_running_stats=True)\n",
            "      (relu): ReLU(inplace=True)\n",
            "    )\n",
            "    (2): Bottleneck(\n",
            "      (conv1): Conv2d(2048, 512, kernel_size=(1, 1), stride=(1, 1), bias=False)\n",
            "      (bn1): BatchNorm2d(512, eps=1e-05, momentum=0.1, affine=True, track_running_stats=True)\n",
            "      (conv2): Conv2d(512, 512, kernel_size=(3, 3), stride=(1, 1), padding=(1, 1), bias=False)\n",
            "      (bn2): BatchNorm2d(512, eps=1e-05, momentum=0.1, affine=True, track_running_stats=True)\n",
            "      (conv3): Conv2d(512, 2048, kernel_size=(1, 1), stride=(1, 1), bias=False)\n",
            "      (bn3): BatchNorm2d(2048, eps=1e-05, momentum=0.1, affine=True, track_running_stats=True)\n",
            "      (relu): ReLU(inplace=True)\n",
            "    )\n",
            "  )\n",
            "  (avgpool): AdaptiveAvgPool2d(output_size=(1, 1))\n",
            "  (fc): Linear(in_features=2048, out_features=1000, bias=True)\n",
            ")\n"
          ]
        }
      ]
    },
    {
      "cell_type": "code",
      "metadata": {
        "id": "ipAwGkY5BhBq"
      },
      "source": [
        "from torchvision import transforms\n",
        "transform = transforms.Compose([  \n",
        " transforms.Resize(256),\n",
        " transforms.CenterCrop(224),\n",
        " transforms.ToTensor(),\n",
        " transforms.Normalize(\n",
        " mean=[0.485, 0.456, 0.406],\n",
        " std=[0.229, 0.224, 0.225]\n",
        " )])\n"
      ],
      "execution_count": 5,
      "outputs": []
    },
    {
      "cell_type": "code",
      "source": [
        "from google.colab import drive\n",
        "drive.mount('/content/gdrive')"
      ],
      "metadata": {
        "colab": {
          "base_uri": "https://localhost:8080/"
        },
        "id": "WkjSE44TQNJy",
        "outputId": "0d530687-acce-4808-df04-9645253dca70"
      },
      "execution_count": 13,
      "outputs": [
        {
          "output_type": "stream",
          "name": "stdout",
          "text": [
            "Drive already mounted at /content/gdrive; to attempt to forcibly remount, call drive.mount(\"/content/gdrive\", force_remount=True).\n"
          ]
        }
      ]
    },
    {
      "cell_type": "code",
      "metadata": {
        "colab": {
          "base_uri": "https://localhost:8080/"
        },
        "id": "rVxEVCWfWAiX",
        "outputId": "0187c815-05ba-454b-d582-681d43186c61"
      },
      "source": [
        "%cd '/content/gdrive/MyDrive/Pytorch'\n",
        "!ls"
      ],
      "execution_count": 14,
      "outputs": [
        {
          "output_type": "stream",
          "name": "stdout",
          "text": [
            "/content/gdrive/MyDrive/Pytorch\n",
            "cat.jpg  finetuning.ipynb  torchvision.ipynb\n"
          ]
        }
      ]
    },
    {
      "cell_type": "code",
      "metadata": {
        "id": "aHO3MGxIR2Hl"
      },
      "source": [
        "from PIL import Image\n",
        "img = Image.open(\"cat.jpg\")"
      ],
      "execution_count": 17,
      "outputs": []
    },
    {
      "cell_type": "code",
      "metadata": {
        "colab": {
          "base_uri": "https://localhost:8080/",
          "height": 257
        },
        "id": "v-Cnzh0yWJo7",
        "outputId": "8ec85fed-e0fd-41e4-9702-baf8dd743ceb"
      },
      "source": [
        "import matplotlib.pyplot as plt\n",
        "plt.imshow(img)"
      ],
      "execution_count": 18,
      "outputs": [
        {
          "output_type": "execute_result",
          "data": {
            "text/plain": [
              "<matplotlib.image.AxesImage at 0x7fe752cd9450>"
            ]
          },
          "metadata": {},
          "execution_count": 18
        },
        {
          "output_type": "display_data",
          "data": {
            "image/png": "[encoded data removed]",
            "text/plain": [
              "<Figure size 432x288 with 1 Axes>"
            ]
          },
          "metadata": {
            "needs_background": "light"
          }
        }
      ]
    },
    {
      "cell_type": "code",
      "metadata": {
        "id": "qomNSMEsWShU"
      },
      "source": [
        "img_t = transform(img)\n",
        "batch_t = torch.unsqueeze(img_t, 0)"
      ],
      "execution_count": 19,
      "outputs": []
    },
    {
      "cell_type": "code",
      "metadata": {
        "id": "yW7-snmvXdxq"
      },
      "source": [
        "resnet.eval()\n",
        "out = resnet(batch_t)"
      ],
      "execution_count": 20,
      "outputs": []
    },
    {
      "cell_type": "code",
      "metadata": {
        "colab": {
          "base_uri": "https://localhost:8080/"
        },
        "id": "G74UEalEY-E9",
        "outputId": "c17ce798-08d3-4f52-b43b-2c3bbee4363b"
      },
      "source": [
        "out"
      ],
      "execution_count": 21,
      "outputs": [
        {
          "output_type": "execute_result",
          "data": {
            "text/plain": [
              "tensor([[-3.6281e+00, -1.2228e+00, -2.2320e+00, -1.3751e+00, -1.1213e+00,\n",
              "          3.7083e-01, -1.2075e+00,  8.2494e-01,  1.3344e+00, -5.0851e-01,\n",
              "         -3.9405e-01, -3.1705e+00,  4.5641e+00, -5.5635e-01, -7.5181e-01,\n",
              "          1.1715e+00, -6.6589e-01,  2.0015e-02, -1.5048e+00, -2.9604e+00,\n",
              "         -1.9290e-01,  6.4066e-01, -8.0080e-01,  6.0290e-01,  2.4681e+00,\n",
              "         -3.6124e+00, -4.3763e+00, -3.1729e+00, -2.4600e+00, -2.3801e+00,\n",
              "          1.7376e-01, -1.8592e+00, -1.2075e+00, -1.7469e+00,  2.5675e-01,\n",
              "         -1.0824e+00,  2.6201e-01,  1.7488e-02,  2.1857e+00,  5.7453e-01,\n",
              "         -2.1454e-01,  2.8533e+00, -5.2891e-01,  8.5325e-01, -2.0487e-01,\n",
              "         -1.7079e+00,  3.2773e-01, -9.2088e-01, -2.4493e+00, -2.8361e+00,\n",
              "         -2.0330e+00,  6.0522e-01, -1.7495e+00, -1.8233e+00, -8.1794e-01,\n",
              "         -3.2313e+00, -3.8017e-01, -3.3399e+00, -1.5988e+00,  2.2557e-01,\n",
              "         -1.0229e-01,  1.8499e-01, -3.3301e-01, -2.2156e+00, -1.7932e+00,\n",
              "         -2.4114e+00,  1.6648e+00,  1.3390e+00,  4.0140e-02,  3.2026e-02,\n",
              "         -3.8192e+00, -4.1217e-01, -1.1163e+00,  1.5672e-01, -1.1852e+00,\n",
              "         -9.4400e-01,  1.1708e+00, -6.6710e-01,  1.0993e+00, -9.7481e-01,\n",
              "         -3.2087e-01, -2.1024e+00,  4.3572e+00,  1.8047e+00, -6.8487e-02,\n",
              "          1.2259e+00,  4.1090e+00,  1.3757e+00,  2.8605e+00, -2.2449e+00,\n",
              "         -1.1973e-01, -2.8398e+00,  1.2855e+00, -1.3112e+00, -4.4904e-01,\n",
              "         -3.9947e+00, -6.6201e-01,  3.7828e-01, -8.4688e-02, -1.9149e-01,\n",
              "         -2.7195e+00, -3.0662e+00, -1.3297e+00,  1.2803e+00, -1.2321e+00,\n",
              "          8.1553e-01, -9.6387e-01, -3.3082e+00, -2.0873e+00, -1.2693e+00,\n",
              "         -2.9456e+00, -2.1755e+00,  1.3302e+00, -1.1333e+00, -1.1584e+00,\n",
              "         -3.1239e+00, -3.1555e+00,  4.3659e+00,  2.1920e+00, -1.2954e+00,\n",
              "         -2.1788e+00, -3.2422e-01,  9.8306e-02, -9.0271e-01,  9.7547e-01,\n",
              "          1.1519e+00,  1.2746e-01, -4.8223e+00, -4.0329e+00, -1.3591e+00,\n",
              "         -5.5992e-01, -6.4722e-01, -2.0497e-01,  3.3876e+00, -9.7204e-01,\n",
              "         -2.5787e+00, -4.7183e-01, -1.3138e+00,  1.2442e+00, -1.8847e+00,\n",
              "          1.6620e+00,  2.3453e-01, -1.2051e+00, -3.3024e+00, -2.1376e+00,\n",
              "         -1.0002e+00, -3.4829e+00, -2.3583e+00, -2.1932e+00, -3.9988e+00,\n",
              "          4.5596e-01,  5.3288e-01,  6.5695e-01, -1.2443e+00,  8.2587e-01,\n",
              "          9.9358e-01,  2.6395e-01, -1.0553e+00, -1.6418e+00, -3.4999e-03,\n",
              "         -7.1841e-01, -7.9536e-02, -1.2842e+00,  2.8849e-01, -8.6259e-01,\n",
              "         -1.0661e+00, -2.5773e+00, -3.3870e+00,  4.2771e-01, -3.0726e+00,\n",
              "         -1.0368e+00, -5.7832e-01, -8.6656e-02, -5.3967e-01,  8.3959e-01,\n",
              "         -1.5484e+00,  7.8186e-02, -1.9611e+00,  3.5545e+00, -1.7313e+00,\n",
              "         -8.4839e-01, -9.2068e-01, -1.0322e+00, -1.6819e+00,  2.9885e-02,\n",
              "          1.7212e+00,  2.2135e+00,  9.0389e-01, -2.5440e+00, -1.8078e+00,\n",
              "         -2.6414e+00, -9.8724e-01, -7.0035e-01,  1.4915e+00, -2.8766e+00,\n",
              "          9.4220e-01, -1.5135e-01, -6.3696e-01, -1.8460e-01, -1.1387e+00,\n",
              "          1.0727e+00, -1.3659e+00,  8.5039e-01,  4.1456e-01,  2.2180e+00,\n",
              "         -8.7757e-01, -1.5322e+00,  8.1593e-01, -7.5201e-01,  1.1147e+00,\n",
              "         -7.4547e-01,  1.5446e+00, -5.5772e-01, -5.7722e-02, -9.4688e-01,\n",
              "          1.4330e+00,  6.0295e-01, -1.4391e+00, -7.2956e-01, -8.6383e-01,\n",
              "         -4.0784e-01, -1.1549e+00, -5.3436e-01, -1.6294e-01,  2.3101e-01,\n",
              "         -1.9521e+00, -5.5573e-01, -2.6055e-01,  6.6137e-01, -1.3859e-01,\n",
              "         -1.5219e-01, -3.4648e-01, -2.4846e-02,  1.4427e-01, -3.8706e-03,\n",
              "         -5.4409e-01,  1.0453e+00, -1.1921e+00, -1.1108e-01,  6.6782e-02,\n",
              "         -4.1110e-01, -1.6637e+00, -7.8889e-01,  7.1471e-01, -2.6967e-01,\n",
              "         -1.1024e+00,  1.0099e+00, -1.0505e+00,  1.2792e+00,  5.0040e-01,\n",
              "          1.1787e+00,  1.1393e+00, -2.1373e+00,  4.4199e-01,  7.7239e-01,\n",
              "         -8.2566e-01,  8.6566e-01, -5.6380e-01, -9.3773e-01,  8.0511e-01,\n",
              "          1.1707e+00, -2.1928e-01, -8.8345e-01, -7.3581e-01, -5.9286e-01,\n",
              "         -5.2295e-01, -8.6391e-01, -2.1896e+00, -1.2494e+00, -1.2101e+00,\n",
              "         -2.4936e+00, -2.1213e+00,  7.5591e-01, -1.8492e+00, -1.2162e+00,\n",
              "         -2.5481e+00,  1.1127e+00, -4.8188e-02, -1.5820e-01, -1.4227e+00,\n",
              "          7.2303e-02,  1.1800e+01,  1.1219e+01,  8.4387e+00,  2.9965e+00,\n",
              "          1.0936e+01,  2.9261e+00,  1.0244e+01,  3.0081e+00,  3.6500e+00,\n",
              "          2.2799e+00,  2.5177e+00,  8.6236e+00,  1.3692e+00, -1.8742e+00,\n",
              "         -2.4920e+00, -3.1731e+00, -3.4902e+00, -5.6389e-01,  3.2343e-02,\n",
              "         -1.0568e+00, -2.6019e+00, -1.9103e+00, -1.1907e+00, -3.2884e+00,\n",
              "         -5.2043e-01,  6.4807e-01, -2.4522e+00, -1.4316e+00, -1.8207e-01,\n",
              "         -1.1737e+00,  1.5194e-02, -7.8538e-01, -7.3699e-01, -5.4144e-01,\n",
              "         -5.7211e-01,  1.8353e-01, -1.0428e+00, -1.9536e+00, -1.7587e-02,\n",
              "         -2.3399e+00, -3.1594e+00,  1.7405e-02, -1.9862e+00, -7.4750e-01,\n",
              "         -3.1102e+00,  3.0323e+00, -9.9991e-01, -1.4386e+00, -1.8269e+00,\n",
              "          9.8254e-01,  9.1823e-01,  1.7405e+00,  7.2153e-01, -1.4221e+00,\n",
              "         -1.7992e+00, -3.5883e+00, -4.8628e-01,  6.0224e-01, -1.6910e+00,\n",
              "          3.4330e+00,  3.4107e-01, -1.0921e+00, -1.9063e+00, -2.4243e+00,\n",
              "         -1.9426e+00, -2.8904e+00, -3.1179e+00, -1.0646e+00, -2.2451e+00,\n",
              "         -2.8036e+00, -3.2010e+00, -2.2043e+00, -2.4718e+00, -3.0547e+00,\n",
              "         -1.0996e+00,  4.2884e-01,  9.1252e-01,  4.9976e-01,  6.9151e-01,\n",
              "          1.2990e+00,  8.0941e-02, -7.9419e-01, -3.7063e-01, -7.0827e-01,\n",
              "         -1.8632e-01, -2.5605e+00, -2.3445e+00, -1.7595e+00, -1.6274e+00,\n",
              "         -1.7497e+00, -1.4438e+00, -1.0657e+00,  1.5734e+00, -1.5299e+00,\n",
              "         -2.8035e+00, -9.6621e-01,  6.0690e-01, -2.1638e+00, -2.6188e+00,\n",
              "         -9.6745e-01, -5.2823e+00, -2.6939e+00,  1.7100e+00, -1.0303e+00,\n",
              "         -3.0176e+00, -2.3852e+00, -1.6964e-01, -3.2701e+00, -1.2281e+00,\n",
              "         -2.2962e+00,  2.7508e+00, -1.8958e+00, -2.6089e+00, -1.1454e+00,\n",
              "         -1.5280e-01, -9.3321e-01, -8.1470e-01,  8.8398e-01, -8.9629e-01,\n",
              "         -1.2435e+00, -1.9093e+00, -9.7366e-01, -1.3376e+00, -2.8605e+00,\n",
              "         -1.7742e+00,  3.7928e-01, -2.0492e+00, -2.8773e+00,  1.3381e+00,\n",
              "         -2.7635e+00,  4.4847e-01,  1.2819e+00, -2.9192e-01,  1.2349e+00,\n",
              "          2.5442e-01,  9.0419e-02, -2.2496e+00, -1.6278e-01,  4.1688e+00,\n",
              "          2.7702e-01, -5.7527e-01,  2.0503e+00,  1.5551e+00,  2.5273e+00,\n",
              "         -2.3963e+00,  1.2549e+00,  1.8288e+00,  6.2469e-02,  2.0525e+00,\n",
              "          5.7042e-01,  1.0003e+00, -1.3220e+00,  1.6278e-01,  3.3536e+00,\n",
              "          2.3096e+00, -7.7424e-01, -1.9230e+00,  1.2579e+00, -2.7534e-01,\n",
              "          2.1352e+00,  1.1826e+00, -9.4822e-01,  3.3335e+00, -2.0880e-01,\n",
              "         -4.9661e-01,  1.7656e+00,  2.5485e-01,  1.3236e-01, -1.8604e+00,\n",
              "         -3.4958e-01, -6.6925e-01,  2.3780e+00,  1.4252e+00, -6.0029e-01,\n",
              "          1.4722e+00,  1.1508e+00,  3.9973e+00, -7.0943e-01,  1.6385e+00,\n",
              "         -1.0808e+00, -1.5241e+00,  3.9584e+00,  4.4194e+00,  1.3692e+00,\n",
              "         -1.2455e+00, -2.5217e+00,  1.3457e+00, -2.1342e+00,  1.4513e+00,\n",
              "          2.8482e-01, -1.4953e+00, -2.4912e+00,  2.2608e+00,  1.1282e+00,\n",
              "          8.7065e-01, -9.9992e-01, -3.2672e-01,  5.5820e+00,  3.0352e-01,\n",
              "          7.2062e-01,  3.8440e-01, -2.3710e+00, -1.7740e+00, -2.5300e+00,\n",
              "          1.8854e-01, -1.7373e+00,  3.5798e+00,  8.2640e-01, -1.1692e+00,\n",
              "         -1.8216e+00, -2.2771e+00, -2.3084e-01, -1.1613e+00,  7.5018e-01,\n",
              "         -6.8754e-01,  2.5109e+00, -1.4663e+00, -2.0054e+00,  3.0454e+00,\n",
              "         -3.1872e+00,  1.3780e+00,  1.0344e+00, -4.7122e-02,  3.8435e+00,\n",
              "         -6.9414e-01,  8.4304e-02,  9.7338e-01,  3.7556e+00, -1.8050e+00,\n",
              "         -3.7251e+00, -4.2835e+00,  3.3328e+00, -2.1803e+00,  1.2800e+00,\n",
              "          2.8807e+00,  1.4306e+00, -2.3854e+00,  1.4397e+00,  3.2773e+00,\n",
              "          2.5244e+00,  2.5265e+00, -2.3328e-01,  1.1221e+00, -2.2864e+00,\n",
              "         -1.4416e+00,  2.2795e+00,  1.6037e+00,  2.0714e+00,  1.4850e+00,\n",
              "          1.3615e+00, -2.0868e-01,  2.2729e+00,  2.2735e+00,  2.4499e+00,\n",
              "         -1.5029e+00, -4.0955e-01, -1.1426e+00, -3.1306e+00,  6.0777e+00,\n",
              "         -4.6800e+00,  6.9034e-01,  1.6691e+00,  3.6483e+00,  4.8375e-01,\n",
              "          2.3786e+00, -1.8633e+00, -4.0498e+00, -7.4092e-01,  2.9021e+00,\n",
              "         -1.8644e+00,  1.8743e+00,  3.2672e+00,  2.2772e+00, -4.0292e+00,\n",
              "         -1.0212e+00, -7.3309e-01,  1.2684e+00, -4.7114e-01,  1.0296e+00,\n",
              "         -5.2176e-01, -1.7653e+00, -7.6445e-01,  1.4142e+00, -9.7345e-01,\n",
              "         -9.7976e-01, -1.0023e+00,  2.2214e+00,  4.1147e+00, -1.6075e+00,\n",
              "          2.3331e+00, -2.4094e+00,  3.1193e+00, -2.6620e+00, -9.2050e-01,\n",
              "         -4.4262e+00, -2.1295e+00, -1.0252e+00, -1.5090e+00, -1.8933e+00,\n",
              "         -2.1083e+00, -2.5652e+00,  1.7825e+00, -3.1582e-01,  2.6604e+00,\n",
              "          1.5131e+00,  4.2921e-01,  1.4280e+00,  3.2117e+00,  1.8581e+00,\n",
              "         -1.1352e+00,  3.3939e+00,  1.9182e+00,  1.6204e+00, -3.5209e+00,\n",
              "         -3.6985e+00,  2.3894e+00, -1.1790e+00, -2.0096e+00, -6.4717e-01,\n",
              "          2.2530e+00,  5.8010e-01,  3.3588e-01, -2.0437e-01,  4.1366e-01,\n",
              "          1.8508e+00,  4.0847e+00,  2.7111e-01,  3.2620e+00, -4.6800e+00,\n",
              "          1.5947e+00,  5.1594e+00, -1.8818e+00, -7.9718e-01, -7.1030e-01,\n",
              "          1.1157e+00,  6.4952e-01,  1.9153e+00,  3.5253e-01,  1.6031e+00,\n",
              "          4.2295e+00, -2.3677e+00,  4.2042e+00,  1.0375e+00,  2.8135e-01,\n",
              "         -1.6889e+00,  9.0241e-01, -2.5660e+00, -2.2972e+00, -3.1536e-01,\n",
              "          7.8970e-01,  3.2354e+00, -7.5745e-01,  2.9902e+00, -2.2966e+00,\n",
              "          1.2481e+00,  1.7376e+00,  1.2823e+00,  4.2691e-01,  3.9773e-01,\n",
              "         -1.4966e+00,  1.0046e+00, -1.3488e+00,  1.3405e+00,  2.0405e-01,\n",
              "         -2.2361e+00,  2.5290e-01,  1.6334e+00,  2.2957e+00, -3.2430e+00,\n",
              "         -5.9244e-01,  1.7762e+00,  2.3834e+00,  1.5580e+00, -2.3378e+00,\n",
              "          5.6947e-01, -1.0774e+00, -2.4071e+00,  2.0128e+00,  3.3053e+00,\n",
              "          1.3053e+00, -2.3405e+00,  2.2254e+00, -3.0091e+00,  2.2951e+00,\n",
              "          4.1928e-01, -4.7787e-01,  1.4755e+00, -3.5598e+00, -7.1576e-01,\n",
              "          4.3684e-01, -1.5201e+00, -2.5811e+00,  6.2588e+00,  2.1989e+00,\n",
              "         -6.9214e-01,  2.6790e+00,  2.2337e-01,  2.0636e+00,  2.8500e+00,\n",
              "          6.3180e-01,  3.0602e+00, -1.4926e+00, -5.9301e-01,  8.2927e-01,\n",
              "         -2.8131e+00,  7.1911e-02, -2.0147e+00,  5.3176e-01, -1.2373e+00,\n",
              "         -2.9164e+00,  2.5359e+00,  2.9649e+00, -8.4743e-01, -1.3532e+00,\n",
              "          1.1291e+00,  3.3007e+00,  1.8297e+00, -2.5349e+00,  3.6605e-01,\n",
              "          4.9208e+00, -7.8570e-01, -1.0161e+00, -1.2185e+00,  5.0648e-01,\n",
              "         -2.9825e+00, -8.8334e-01,  4.7055e-01, -1.2090e+00,  3.4452e+00,\n",
              "          1.4981e+00,  1.6196e+00,  1.7690e+00,  1.9375e+00,  1.5043e+00,\n",
              "          4.1690e-01,  5.3698e-01, -9.4541e-01, -1.2842e+00,  4.5512e-01,\n",
              "          2.6081e+00,  2.6466e+00,  4.4226e+00,  2.4548e+00, -1.8069e+00,\n",
              "          1.8824e+00, -1.7234e+00, -2.8542e+00,  6.4230e+00,  4.9862e-01,\n",
              "         -4.1268e-01,  1.9573e+00, -2.3863e+00,  1.9527e+00, -3.6240e+00,\n",
              "          1.6827e+00,  5.8425e-01,  1.8662e+00,  1.1767e+00,  9.4009e-02,\n",
              "          8.2447e-01,  2.8577e+00,  3.5780e+00, -2.1646e-01, -1.9497e-01,\n",
              "         -7.1678e-01,  8.2675e-01,  4.0275e+00,  3.6014e+00,  2.1055e+00,\n",
              "          3.6986e+00, -9.5288e-01, -7.0949e-01,  3.3225e+00, -1.2481e-01,\n",
              "         -1.3067e+00,  2.0196e+00,  2.4269e-01,  8.8936e-01, -1.1676e+00,\n",
              "          4.2219e+00,  4.7790e+00, -6.0161e-01, -8.5630e-01,  8.6024e-01,\n",
              "          9.9125e-01, -8.3574e-01,  6.9425e-01,  2.8992e+00,  3.2987e+00,\n",
              "          2.7969e+00, -2.7981e-01,  1.6351e+00,  9.5559e-01,  1.5514e+00,\n",
              "          7.1491e-01, -1.7790e+00, -1.3342e-02,  3.1332e+00, -3.2627e+00,\n",
              "          2.7308e-01, -2.8803e+00,  3.3500e+00,  5.5950e-01,  1.2184e+00,\n",
              "         -1.9976e-02,  1.1269e+00,  4.7143e-01, -8.9799e-01,  7.9116e-01,\n",
              "          6.5786e-01, -1.0059e+00,  2.9755e+00,  1.5602e+00,  2.5520e+00,\n",
              "         -2.8737e-01,  1.0025e+00,  3.5476e+00, -8.1226e-01,  1.9906e+00,\n",
              "         -2.8563e+00, -6.3081e-01, -2.3909e+00, -8.6041e-01,  1.5144e+00,\n",
              "          1.3054e+00,  3.6419e+00, -2.5040e+00,  9.2050e-01,  2.9286e+00,\n",
              "         -1.1845e+00,  3.9165e+00, -2.8926e+00,  3.0495e+00, -1.5506e+00,\n",
              "         -1.6062e+00,  3.9465e+00, -2.6098e+00,  1.1072e+00, -2.4760e+00,\n",
              "         -4.9086e+00, -3.9485e+00, -1.9184e+00,  2.9392e+00,  1.9344e+00,\n",
              "         -1.2659e+00,  7.3536e-01, -1.7371e-01,  1.8350e+00, -1.9302e+00,\n",
              "          1.3803e+00,  1.6715e+00, -3.2255e+00, -2.2590e+00, -4.9303e-01,\n",
              "         -6.7285e-01,  1.2710e+00,  2.1829e+00,  1.7604e+00, -2.1369e+00,\n",
              "          6.0449e+00,  3.1444e+00,  3.2257e-01, -8.4445e-02,  1.1203e-01,\n",
              "          3.6151e+00,  1.5893e+00, -2.3113e+00, -1.0907e+00,  8.0389e-01,\n",
              "          8.3286e-01,  2.4465e+00,  2.5239e+00, -3.0535e-01, -2.4279e+00,\n",
              "          3.4876e+00, -2.7226e+00, -2.6904e+00, -6.5656e-01,  1.1910e+00,\n",
              "         -6.7207e-01,  3.3550e+00, -1.3446e+00, -7.8199e-01, -7.0435e-01,\n",
              "          2.2816e-02, -2.6335e-01,  5.7104e-01,  1.8390e+00, -3.0250e-01,\n",
              "          1.8676e+00, -1.2318e+00,  9.6484e-01, -1.3698e+00, -3.8576e+00,\n",
              "         -1.1351e+00,  2.6744e+00, -2.4207e+00, -9.9279e-01,  4.3990e-01,\n",
              "          1.5033e+00,  2.4334e-02,  1.2629e+00,  2.4507e+00, -1.9726e+00,\n",
              "          3.0604e+00, -7.3443e-01, -7.1493e-01, -2.8305e+00,  7.7067e-01,\n",
              "         -1.9945e-01, -1.7272e-01,  1.8905e+00,  2.1722e+00,  1.8201e+00,\n",
              "         -1.2987e+00,  3.2458e+00,  3.4355e+00,  2.1389e+00,  2.1251e+00,\n",
              "         -1.0721e+00,  4.5041e-01,  1.6065e+00,  1.5556e+00,  4.4696e+00,\n",
              "          2.5875e+00,  2.3365e-01,  3.3242e+00, -1.0971e+00,  1.3309e+00,\n",
              "          2.3888e+00,  3.8044e+00, -6.8975e-01, -3.0793e+00, -1.4762e+00,\n",
              "         -2.1240e+00,  3.0504e+00,  1.7960e+00,  4.7229e+00, -4.2797e-01,\n",
              "         -1.2576e+00,  2.2023e+00,  1.0678e+00,  2.1809e+00, -9.8895e-02,\n",
              "         -1.5806e-01, -6.0459e-01,  2.6307e-01, -3.5570e-01,  1.8320e+00,\n",
              "         -6.5321e-01,  8.6721e-01, -5.2187e-01, -3.5979e+00, -1.5465e+00,\n",
              "          5.1560e-01, -2.2575e-01,  1.3196e+00, -9.5354e-02,  2.4461e+00,\n",
              "         -1.0140e+00, -9.0666e-02,  2.5914e-01,  2.6419e-01,  9.7905e-01,\n",
              "          8.5260e-02, -6.3597e-01,  1.7787e+00,  2.3677e-01,  5.8138e-01,\n",
              "          4.7414e-01, -2.3798e+00,  2.3242e+00, -5.2010e-01,  9.7454e-01,\n",
              "         -2.0597e+00, -5.5647e-01,  4.4793e-01, -2.7878e-01, -8.7330e-02,\n",
              "          9.7027e-01,  2.0401e+00,  5.7727e-01,  1.3102e+00,  5.6295e-01,\n",
              "          2.1064e-01,  4.7140e+00,  7.6039e-01,  3.2734e+00,  1.4796e+00,\n",
              "         -1.9874e+00,  4.9581e-01, -8.9142e-01, -1.7640e+00, -2.5189e+00,\n",
              "         -8.5097e-01, -2.4578e+00,  4.9822e-01,  1.0303e-01, -2.6738e+00,\n",
              "         -8.8885e-01, -6.5668e-01, -1.9925e+00, -2.0894e+00, -1.5170e+00,\n",
              "         -1.0171e+00, -2.9564e+00,  7.1712e-01, -4.6527e-01, -6.0068e-01,\n",
              "         -1.2725e+00, -1.9975e+00, -2.0173e+00, -2.5430e+00, -2.8395e+00,\n",
              "         -9.6429e-01,  1.5376e+00, -9.1932e-01,  2.9067e-01,  3.4958e+00]],\n",
              "       grad_fn=<AddmmBackward0>)"
            ]
          },
          "metadata": {},
          "execution_count": 21
        }
      ]
    },
    {
      "cell_type": "code",
      "metadata": {
        "colab": {
          "base_uri": "https://localhost:8080/"
        },
        "id": "YKRXM5BeY_hj",
        "outputId": "bff617c4-5a60-4ac5-bcf7-b9449aff2317"
      },
      "source": [
        "out.argmax()"
      ],
      "execution_count": 22,
      "outputs": [
        {
          "output_type": "execute_result",
          "data": {
            "text/plain": [
              "tensor(281)"
            ]
          },
          "metadata": {},
          "execution_count": 22
        }
      ]
    }
  ]
}