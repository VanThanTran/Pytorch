{
  "nbformat": 4,
  "nbformat_minor": 0,
  "metadata": {
    "kernelspec": {
      "display_name": "Python 3",
      "language": "python",
      "name": "python3"
    },
    "language_info": {
      "codemirror_mode": {
        "name": "ipython",
        "version": 3
      },
      "file_extension": ".py",
      "mimetype": "text/x-python",
      "name": "python",
      "nbconvert_exporter": "python",
      "pygments_lexer": "ipython3",
      "version": "3.8.1"
    },
    "colab": {
      "name": "Torch_Linear_Regression.ipynb",
      "provenance": [],
      "collapsed_sections": []
    },
    "accelerator": "GPU"
  },
  "cells": [
    {
      "cell_type": "code",
      "metadata": {
        "colab": {
          "base_uri": "https://localhost:8080/"
        },
        "id": "yx2zgJzySeTo",
        "outputId": "2c051cc1-088a-4c4b-d409-e5b0b5d95612"
      },
      "source": [
        "from google.colab import drive\n",
        "drive.mount('/content/gdrive')"
      ],
      "execution_count": 1,
      "outputs": [
        {
          "output_type": "stream",
          "name": "stdout",
          "text": [
            "Mounted at /content/gdrive\n"
          ]
        }
      ]
    },
    {
      "cell_type": "code",
      "metadata": {
        "colab": {
          "base_uri": "https://localhost:8080/"
        },
        "id": "RDb53VlVSk3k",
        "outputId": "cfc6292e-337d-42e2-a324-394b46966f9b"
      },
      "source": [
        "%cd '/content/gdrive/MyDrive/Pytorch'\n",
        "! ls"
      ],
      "execution_count": 2,
      "outputs": [
        {
          "output_type": "stream",
          "name": "stdout",
          "text": [
            "/content/gdrive/MyDrive/Pytorch\n",
            "CNN_MNIST.ipynb  data_linear.csv  Torch_Linear_Regression.ipynb\n"
          ]
        }
      ]
    },
    {
      "cell_type": "code",
      "metadata": {
        "id": "8ozLmFVESTbS"
      },
      "source": [
        "import numpy as np\n",
        "import pandas as pd\n",
        "import matplotlib.pyplot as plt\n",
        "import torch\n",
        "import torch.nn as nn\n",
        "import torch.optim as optim"
      ],
      "execution_count": 3,
      "outputs": []
    },
    {
      "cell_type": "code",
      "metadata": {
        "id": "rpAgDsPvSTbX"
      },
      "source": [
        "# load dữ liệu, chuyển về dạng numpy\n",
        "data = pd.read_csv('data_linear.csv').values"
      ],
      "execution_count": 4,
      "outputs": []
    },
    {
      "cell_type": "code",
      "metadata": {
        "id": "2MfLo-DVSTbX"
      },
      "source": [
        "# chuyển dữ liệu về dạng torch\n",
        "x = torch.tensor(data[:,0], dtype=torch.float32)\n",
        "y = torch.tensor(data[:,1], dtype=torch.float32)\n",
        "x = x.unsqueeze(1)\n",
        "y = y.unsqueeze(1)"
      ],
      "execution_count": 8,
      "outputs": []
    },
    {
      "cell_type": "code",
      "metadata": {
        "id": "cQOThn09STbY"
      },
      "source": [
        "# Hàm training\n",
        "def training_loop(n_epochs, optimizer, model, loss_fn, x, y):\n",
        "    losses = []\n",
        "    for epoch in range(1, n_epochs + 1):\n",
        "      y_hat = model(x)\n",
        "      print(y_hat.shape, y.shape)\n",
        "      loss = loss_fn(y_hat, y)\n",
        "      optimizer.zero_grad()\n",
        "      loss.backward()\n",
        "      optimizer.step()\n",
        "      if epoch % 1 == 0:\n",
        "              losses.append(loss.item())\n",
        "              print('Epoch %d, Loss %f' % (epoch, float(loss)))\n",
        "    return losses"
      ],
      "execution_count": 11,
      "outputs": []
    },
    {
      "cell_type": "code",
      "metadata": {
        "id": "GQja4VfqajPc"
      },
      "source": [
        "linear_model = nn.Linear(1, 1)\n",
        "optimizer = optim.SGD(linear_model.parameters(), lr=0.00004)"
      ],
      "execution_count": 12,
      "outputs": []
    },
    {
      "cell_type": "code",
      "metadata": {
        "colab": {
          "base_uri": "https://localhost:8080/"
        },
        "id": "DfUVUQjN4uzp",
        "outputId": "62eef16f-fe6b-4b0a-b64c-bb96f4d2d3ae"
      },
      "source": [
        "list(linear_model.parameters())"
      ],
      "execution_count": 13,
      "outputs": [
        {
          "output_type": "execute_result",
          "data": {
            "text/plain": [
              "[Parameter containing:\n",
              " tensor([[-0.2414]], requires_grad=True), Parameter containing:\n",
              " tensor([0.6597], requires_grad=True)]"
            ]
          },
          "metadata": {},
          "execution_count": 13
        }
      ]
    },
    {
      "cell_type": "code",
      "metadata": {
        "colab": {
          "base_uri": "https://localhost:8080/"
        },
        "id": "KKTbTSzTSTbY",
        "outputId": "901788ec-422e-4d4d-dd56-a025bd608027"
      },
      "source": [
        "loss = training_loop(\n",
        "  n_epochs = 10,\n",
        "  optimizer = optimizer,\n",
        "  model = linear_model,\n",
        "  loss_fn = nn.MSELoss(),\n",
        "  x = x, \n",
        "  y = y\n",
        ")"
      ],
      "execution_count": 14,
      "outputs": [
        {
          "output_type": "stream",
          "name": "stdout",
          "text": [
            "torch.Size([30, 1]) torch.Size([30, 1])\n",
            "Epoch 1, Loss 1097857.500000\n",
            "torch.Size([30, 1]) torch.Size([30, 1])\n",
            "Epoch 2, Loss 431763.875000\n",
            "torch.Size([30, 1]) torch.Size([30, 1])\n",
            "Epoch 3, Loss 169896.453125\n",
            "torch.Size([30, 1]) torch.Size([30, 1])\n",
            "Epoch 4, Loss 66946.156250\n",
            "torch.Size([30, 1]) torch.Size([30, 1])\n",
            "Epoch 5, Loss 26472.388672\n",
            "torch.Size([30, 1]) torch.Size([30, 1])\n",
            "Epoch 6, Loss 10560.584961\n",
            "torch.Size([30, 1]) torch.Size([30, 1])\n",
            "Epoch 7, Loss 4305.022461\n",
            "torch.Size([30, 1]) torch.Size([30, 1])\n",
            "Epoch 8, Loss 1845.711792\n",
            "torch.Size([30, 1]) torch.Size([30, 1])\n",
            "Epoch 9, Loss 878.867737\n",
            "torch.Size([30, 1]) torch.Size([30, 1])\n",
            "Epoch 10, Loss 498.760895\n"
          ]
        }
      ]
    },
    {
      "cell_type": "code",
      "metadata": {
        "colab": {
          "base_uri": "https://localhost:8080/",
          "height": 307
        },
        "id": "7UiFniLVSTbZ",
        "outputId": "e77029f3-1ebe-4b85-b91b-00db2998d609"
      },
      "source": [
        "plt.plot(loss)\n",
        "plt.xlabel('epoch')\n",
        "plt.ylabel('loss')"
      ],
      "execution_count": 15,
      "outputs": [
        {
          "output_type": "execute_result",
          "data": {
            "text/plain": [
              "Text(0, 0.5, 'loss')"
            ]
          },
          "metadata": {},
          "execution_count": 15
        },
        {
          "output_type": "display_data",
          "data": {
            "image/png": "[encoded data removed]",
            "text/plain": [
              "<Figure size 432x288 with 1 Axes>"
            ]
          },
          "metadata": {
            "needs_background": "light"
          }
        }
      ]
    },
    {
      "cell_type": "code",
      "metadata": {
        "colab": {
          "base_uri": "https://localhost:8080/",
          "height": 282
        },
        "id": "U3duVVQeSTbZ",
        "outputId": "e89990c2-5122-46a4-fa25-d1a3c70f1add"
      },
      "source": [
        "# chuyển dữ liệu về dạng torch\n",
        "x = torch.tensor(data[:,0], dtype=torch.float32)\n",
        "y = torch.tensor(data[:,1], dtype=torch.float32)\n",
        "x = x.unsqueeze(1)\n",
        "\n",
        "with torch.no_grad():\n",
        "    y_hat = linear_model(x)\n",
        "plt.scatter(x, y)\n",
        "plt.plot(x, y_hat, c='r')"
      ],
      "execution_count": 16,
      "outputs": [
        {
          "output_type": "execute_result",
          "data": {
            "text/plain": [
              "[<matplotlib.lines.Line2D at 0x7fbbbae13b10>]"
            ]
          },
          "metadata": {},
          "execution_count": 16
        },
        {
          "output_type": "display_data",
          "data": {
            "image/png": "[encoded data removed]",
            "text/plain": [
              "<Figure size 432x288 with 1 Axes>"
            ]
          },
          "metadata": {
            "needs_background": "light"
          }
        }
      ]
    },
    {
      "cell_type": "code",
      "metadata": {
        "id": "bzIOt49ux9iH"
      },
      "source": [
        ""
      ],
      "execution_count": null,
      "outputs": []
    }
  ]
}