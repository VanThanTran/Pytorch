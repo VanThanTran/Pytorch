{
  "nbformat": 4,
  "nbformat_minor": 0,
  "metadata": {
    "colab": {
      "name": "Autograd.ipynb",
      "provenance": [],
      "collapsed_sections": []
    },
    "kernelspec": {
      "name": "python3",
      "display_name": "Python 3"
    },
    "accelerator": "GPU"
  },
  "cells": [
    {
      "cell_type": "code",
      "metadata": {
        "id": "Wz4ahjOuXnhh",
        "colab": {
          "base_uri": "https://localhost:8080/"
        },
        "outputId": "58cc4e0a-28ac-4e60-bd22-3233ac02232f"
      },
      "source": [
        "!pip install torchviz"
      ],
      "execution_count": 1,
      "outputs": [
        {
          "output_type": "stream",
          "name": "stdout",
          "text": [
            "Collecting torchviz\n",
            "  Downloading torchviz-0.0.2.tar.gz (4.9 kB)\n",
            "Requirement already satisfied: torch in /usr/local/lib/python3.7/dist-packages (from torchviz) (1.10.0+cu111)\n",
            "Requirement already satisfied: graphviz in /usr/local/lib/python3.7/dist-packages (from torchviz) (0.10.1)\n",
            "Requirement already satisfied: typing-extensions in /usr/local/lib/python3.7/dist-packages (from torch->torchviz) (3.10.0.2)\n",
            "Building wheels for collected packages: torchviz\n",
            "  Building wheel for torchviz (setup.py) ... \u001b[?25l\u001b[?25hdone\n",
            "  Created wheel for torchviz: filename=torchviz-0.0.2-py3-none-any.whl size=4150 sha256=c50855a76ea62ba856714f5d4c25c915c9d7f6c688a4a465ca657dd9c0b87407\n",
            "  Stored in directory: /root/.cache/pip/wheels/04/38/f5/dc4f85c3909051823df49901e72015d2d750bd26b086480ec2\n",
            "Successfully built torchviz\n",
            "Installing collected packages: torchviz\n",
            "Successfully installed torchviz-0.0.2\n"
          ]
        }
      ]
    },
    {
      "cell_type": "code",
      "metadata": {
        "id": "7xey9UWlKypa"
      },
      "source": [
        "import torch\n",
        "from torchviz import make_dot"
      ],
      "execution_count": 2,
      "outputs": []
    },
    {
      "cell_type": "code",
      "metadata": {
        "colab": {
          "base_uri": "https://localhost:8080/"
        },
        "id": "t4IBok62a4LW",
        "outputId": "5ed41967-583d-46bd-a239-369dfb0a193e"
      },
      "source": [
        "a = torch.tensor([2., 3.])\n",
        "a.requires_grad"
      ],
      "execution_count": 3,
      "outputs": [
        {
          "output_type": "execute_result",
          "data": {
            "text/plain": [
              "False"
            ]
          },
          "metadata": {},
          "execution_count": 3
        }
      ]
    },
    {
      "cell_type": "code",
      "metadata": {
        "id": "Fi6qN7IUMcqF"
      },
      "source": [
        "# Gán thuộc tính requires_grad = True\n",
        "a = torch.tensor([2., 3.], requires_grad=True)\n",
        "a.requires_grad # True\n",
        "\n",
        "# Hoặc\n",
        "a = torch.tensor([2., 3.])\n",
        "a.requires_grad = True"
      ],
      "execution_count": 4,
      "outputs": []
    },
    {
      "cell_type": "code",
      "metadata": {
        "id": "mJp0k3VbMnxN",
        "colab": {
          "base_uri": "https://localhost:8080/"
        },
        "outputId": "25bf4cad-3f43-4ce3-9a3f-1f022fa0586f"
      },
      "source": [
        "a = torch.tensor([2., 3.], requires_grad=True)\n",
        "a.requires_grad # True\n",
        "b = a**2\n",
        "c = 2*b\n",
        "print(b.requires_grad) # True\n",
        "print(c.requires_grad) # True"
      ],
      "execution_count": 5,
      "outputs": [
        {
          "output_type": "stream",
          "name": "stdout",
          "text": [
            "True\n",
            "True\n"
          ]
        }
      ]
    },
    {
      "cell_type": "code",
      "metadata": {
        "colab": {
          "base_uri": "https://localhost:8080/"
        },
        "id": "FNJogHyfMrW5",
        "outputId": "80256018-d983-44fe-a593-1d7d5726f938"
      },
      "source": [
        "a = torch.tensor([2., 3.], requires_grad=True)\n",
        "b = torch.tensor([1., 1.])\n",
        "\n",
        "print(a.requires_grad) # True\n",
        "print(b.requires_grad) # False\n",
        "\n",
        "c = a + b # [3., 4.]\n",
        "print(c.requires_grad) # True"
      ],
      "execution_count": 6,
      "outputs": [
        {
          "output_type": "stream",
          "name": "stdout",
          "text": [
            "True\n",
            "False\n",
            "True\n"
          ]
        }
      ]
    },
    {
      "cell_type": "code",
      "metadata": {
        "id": "c59CtQTaNHnB"
      },
      "source": [
        "x = torch.tensor([3])\n",
        "y = torch.tensor([10])\n",
        "a = torch.tensor([1.], requires_grad=True)\n",
        "b = torch.tensor([2.], requires_grad=True)\n",
        "\n",
        "y_hat = a*x + b\n",
        "z = y_hat - y\n",
        "L = z**2"
      ],
      "execution_count": 7,
      "outputs": []
    },
    {
      "cell_type": "code",
      "metadata": {
        "colab": {
          "base_uri": "https://localhost:8080/"
        },
        "id": "qbVC2-DONiZi",
        "outputId": "9fd2ecf6-7059-41c7-bdd8-4103ba98734a"
      },
      "source": [
        "print(x.is_leaf) # True\n",
        "print(a.is_leaf) # True\n",
        "print(y_hat.is_leaf) # False\n",
        "print(L.is_leaf) # False"
      ],
      "execution_count": 8,
      "outputs": [
        {
          "output_type": "stream",
          "name": "stdout",
          "text": [
            "True\n",
            "True\n",
            "False\n",
            "False\n"
          ]
        }
      ]
    },
    {
      "cell_type": "code",
      "metadata": {
        "colab": {
          "base_uri": "https://localhost:8080/"
        },
        "id": "NM9AHO67NnBQ",
        "outputId": "6a0735fc-928c-4f43-a302-54ff24cb54d3"
      },
      "source": [
        "L.backward()\n",
        "\n",
        "print(a.grad) # -30\n",
        "print(b.grad) # -10"
      ],
      "execution_count": 9,
      "outputs": [
        {
          "output_type": "stream",
          "name": "stdout",
          "text": [
            "tensor([-30.])\n",
            "tensor([-10.])\n"
          ]
        }
      ]
    },
    {
      "cell_type": "code",
      "metadata": {
        "colab": {
          "base_uri": "https://localhost:8080/"
        },
        "id": "2zc8IgeWW-Tz",
        "outputId": "a4b61dad-cf1d-468a-c37b-cd17d39cba1a"
      },
      "source": [
        "print(x.grad_fn) # None\n",
        "print(a.grad_fn) # None\n",
        "print(y_hat.grad_fn) # AddBackward0 \n",
        "print(z.grad_fn) # SubBackward0 \n",
        "print(L.grad_fn) # PowBackward0"
      ],
      "execution_count": 10,
      "outputs": [
        {
          "output_type": "stream",
          "name": "stdout",
          "text": [
            "None\n",
            "None\n",
            "<AddBackward0 object at 0x7f49ac2ac650>\n",
            "<SubBackward0 object at 0x7f49aa357050>\n",
            "<PowBackward0 object at 0x7f49ac2ac650>\n"
          ]
        }
      ]
    },
    {
      "cell_type": "code",
      "metadata": {
        "colab": {
          "base_uri": "https://localhost:8080/",
          "height": 545
        },
        "id": "oM8Uz2mzmj2z",
        "outputId": "99b2671b-2bac-4784-b02f-68a68520b3c9"
      },
      "source": [
        "make_dot(L)"
      ],
      "execution_count": 11,
      "outputs": [
        {
          "output_type": "execute_result",
          "data": {
            "text/plain": [
              "<graphviz.dot.Digraph at 0x7f49ac299610>"
            ],
            "image/svg+xml": "<?xml version=\"1.0\" encoding=\"UTF-8\" standalone=\"no\"?>\n<!DOCTYPE svg PUBLIC \"-//W3C//DTD SVG 1.1//EN\"\n \"http://www.w3.org/Graphics/SVG/1.1/DTD/svg11.dtd\">\n<!-- Generated by graphviz version 2.40.1 (20161225.0304)\n -->\n<!-- Title: %3 Pages: 1 -->\n<svg width=\"222pt\" height=\"393pt\"\n viewBox=\"0.00 0.00 222.00 393.00\" xmlns=\"http://www.w3.org/2000/svg\" xmlns:xlink=\"http://www.w3.org/1999/xlink\">\n<g id=\"graph0\" class=\"graph\" transform=\"scale(1 1) rotate(0) translate(4 389)\">\n<title>%3</title>\n<polygon fill=\"#ffffff\" stroke=\"transparent\" points=\"-4,4 -4,-389 218,-389 218,4 -4,4\"/>\n<!-- 139954397831344 -->\n<g id=\"node1\" class=\"node\">\n<title>139954397831344</title>\n<polygon fill=\"#caff70\" stroke=\"#000000\" points=\"133.5,-31 79.5,-31 79.5,0 133.5,0 133.5,-31\"/>\n<text text-anchor=\"middle\" x=\"106.5\" y=\"-7\" font-family=\"monospace\" font-size=\"10.00\" fill=\"#000000\"> (1)</text>\n</g>\n<!-- 139954397746896 -->\n<g id=\"node2\" class=\"node\">\n<title>139954397746896</title>\n<polygon fill=\"#d3d3d3\" stroke=\"#000000\" points=\"151,-86 62,-86 62,-67 151,-67 151,-86\"/>\n<text text-anchor=\"middle\" x=\"106.5\" y=\"-74\" font-family=\"monospace\" font-size=\"10.00\" fill=\"#000000\">PowBackward0</text>\n</g>\n<!-- 139954397746896&#45;&gt;139954397831344 -->\n<g id=\"edge8\" class=\"edge\">\n<title>139954397746896&#45;&gt;139954397831344</title>\n<path fill=\"none\" stroke=\"#000000\" d=\"M106.5,-66.9688C106.5,-60.1289 106.5,-50.5621 106.5,-41.5298\"/>\n<polygon fill=\"#000000\" stroke=\"#000000\" points=\"110.0001,-41.3678 106.5,-31.3678 103.0001,-41.3678 110.0001,-41.3678\"/>\n</g>\n<!-- 139954397745296 -->\n<g id=\"node3\" class=\"node\">\n<title>139954397745296</title>\n<polygon fill=\"#d3d3d3\" stroke=\"#000000\" points=\"151,-141 62,-141 62,-122 151,-122 151,-141\"/>\n<text text-anchor=\"middle\" x=\"106.5\" y=\"-129\" font-family=\"monospace\" font-size=\"10.00\" fill=\"#000000\">SubBackward0</text>\n</g>\n<!-- 139954397745296&#45;&gt;139954397746896 -->\n<g id=\"edge1\" class=\"edge\">\n<title>139954397745296&#45;&gt;139954397746896</title>\n<path fill=\"none\" stroke=\"#000000\" d=\"M106.5,-121.9197C106.5,-114.9083 106.5,-105.1442 106.5,-96.4652\"/>\n<polygon fill=\"#000000\" stroke=\"#000000\" points=\"110.0001,-96.3408 106.5,-86.3408 103.0001,-96.3409 110.0001,-96.3408\"/>\n</g>\n<!-- 139954397748496 -->\n<g id=\"node4\" class=\"node\">\n<title>139954397748496</title>\n<polygon fill=\"#d3d3d3\" stroke=\"#000000\" points=\"151,-196 62,-196 62,-177 151,-177 151,-196\"/>\n<text text-anchor=\"middle\" x=\"106.5\" y=\"-184\" font-family=\"monospace\" font-size=\"10.00\" fill=\"#000000\">AddBackward0</text>\n</g>\n<!-- 139954397748496&#45;&gt;139954397745296 -->\n<g id=\"edge2\" class=\"edge\">\n<title>139954397748496&#45;&gt;139954397745296</title>\n<path fill=\"none\" stroke=\"#000000\" d=\"M106.5,-176.9197C106.5,-169.9083 106.5,-160.1442 106.5,-151.4652\"/>\n<polygon fill=\"#000000\" stroke=\"#000000\" points=\"110.0001,-151.3408 106.5,-141.3408 103.0001,-151.3409 110.0001,-151.3408\"/>\n</g>\n<!-- 139954413632208 -->\n<g id=\"node5\" class=\"node\">\n<title>139954413632208</title>\n<polygon fill=\"#d3d3d3\" stroke=\"#000000\" points=\"95,-251 6,-251 6,-232 95,-232 95,-251\"/>\n<text text-anchor=\"middle\" x=\"50.5\" y=\"-239\" font-family=\"monospace\" font-size=\"10.00\" fill=\"#000000\">MulBackward0</text>\n</g>\n<!-- 139954413632208&#45;&gt;139954397748496 -->\n<g id=\"edge3\" class=\"edge\">\n<title>139954413632208&#45;&gt;139954397748496</title>\n<path fill=\"none\" stroke=\"#000000\" d=\"M60.2545,-231.9197C68.1865,-224.1293 79.5788,-212.9405 89.0712,-203.6176\"/>\n<polygon fill=\"#000000\" stroke=\"#000000\" points=\"91.7982,-205.845 96.4802,-196.3408 86.8932,-200.8509 91.7982,-205.845\"/>\n</g>\n<!-- 139958762196496 -->\n<g id=\"node6\" class=\"node\">\n<title>139958762196496</title>\n<polygon fill=\"#d3d3d3\" stroke=\"#000000\" points=\"101,-312 0,-312 0,-293 101,-293 101,-312\"/>\n<text text-anchor=\"middle\" x=\"50.5\" y=\"-300\" font-family=\"monospace\" font-size=\"10.00\" fill=\"#000000\">AccumulateGrad</text>\n</g>\n<!-- 139958762196496&#45;&gt;139954413632208 -->\n<g id=\"edge4\" class=\"edge\">\n<title>139958762196496&#45;&gt;139954413632208</title>\n<path fill=\"none\" stroke=\"#000000\" d=\"M50.5,-292.9688C50.5,-284.5131 50.5,-271.8901 50.5,-261.2615\"/>\n<polygon fill=\"#000000\" stroke=\"#000000\" points=\"54.0001,-261.1656 50.5,-251.1656 47.0001,-261.1657 54.0001,-261.1656\"/>\n</g>\n<!-- 139954397831728 -->\n<g id=\"node7\" class=\"node\">\n<title>139954397831728</title>\n<polygon fill=\"#add8e6\" stroke=\"#000000\" points=\"77.5,-385 23.5,-385 23.5,-354 77.5,-354 77.5,-385\"/>\n<text text-anchor=\"middle\" x=\"50.5\" y=\"-361\" font-family=\"monospace\" font-size=\"10.00\" fill=\"#000000\"> (1)</text>\n</g>\n<!-- 139954397831728&#45;&gt;139958762196496 -->\n<g id=\"edge5\" class=\"edge\">\n<title>139954397831728&#45;&gt;139958762196496</title>\n<path fill=\"none\" stroke=\"#000000\" d=\"M50.5,-353.9604C50.5,-344.6356 50.5,-332.6748 50.5,-322.6317\"/>\n<polygon fill=\"#000000\" stroke=\"#000000\" points=\"54.0001,-322.35 50.5,-312.3501 47.0001,-322.3501 54.0001,-322.35\"/>\n</g>\n<!-- 139954397746448 -->\n<g id=\"node8\" class=\"node\">\n<title>139954397746448</title>\n<polygon fill=\"#d3d3d3\" stroke=\"#000000\" points=\"214,-251 113,-251 113,-232 214,-232 214,-251\"/>\n<text text-anchor=\"middle\" x=\"163.5\" y=\"-239\" font-family=\"monospace\" font-size=\"10.00\" fill=\"#000000\">AccumulateGrad</text>\n</g>\n<!-- 139954397746448&#45;&gt;139954397748496 -->\n<g id=\"edge6\" class=\"edge\">\n<title>139954397746448&#45;&gt;139954397748496</title>\n<path fill=\"none\" stroke=\"#000000\" d=\"M153.5714,-231.9197C145.4169,-224.0514 133.6697,-212.7164 123.9508,-203.3385\"/>\n<polygon fill=\"#000000\" stroke=\"#000000\" points=\"126.3252,-200.7659 116.6987,-196.3408 121.4646,-205.8032 126.3252,-200.7659\"/>\n</g>\n<!-- 139954397832208 -->\n<g id=\"node9\" class=\"node\">\n<title>139954397832208</title>\n<polygon fill=\"#add8e6\" stroke=\"#000000\" points=\"190.5,-318 136.5,-318 136.5,-287 190.5,-287 190.5,-318\"/>\n<text text-anchor=\"middle\" x=\"163.5\" y=\"-294\" font-family=\"monospace\" font-size=\"10.00\" fill=\"#000000\"> (1)</text>\n</g>\n<!-- 139954397832208&#45;&gt;139954397746448 -->\n<g id=\"edge7\" class=\"edge\">\n<title>139954397832208&#45;&gt;139954397746448</title>\n<path fill=\"none\" stroke=\"#000000\" d=\"M163.5,-286.791C163.5,-279.0249 163.5,-269.5706 163.5,-261.3129\"/>\n<polygon fill=\"#000000\" stroke=\"#000000\" points=\"167.0001,-261.0647 163.5,-251.0648 160.0001,-261.0648 167.0001,-261.0647\"/>\n</g>\n</g>\n</svg>\n"
          },
          "metadata": {},
          "execution_count": 11
        }
      ]
    },
    {
      "cell_type": "code",
      "metadata": {
        "id": "hqzIdRSyPexO"
      },
      "source": [
        "class MySquare(torch.autograd.Function):\n",
        "\n",
        "  @staticmethod\n",
        "  def forward(ctx, input):\n",
        "    ctx.save_for_backward(input)\n",
        "    return input**2\n",
        "\n",
        "  @staticmethod\n",
        "  def backward(ctx, grad_output):\n",
        "    input, = ctx.saved_tensors\n",
        "    return 2*input*grad_output"
      ],
      "execution_count": 12,
      "outputs": []
    },
    {
      "cell_type": "code",
      "metadata": {
        "id": "k2Rynm4wAvAn"
      },
      "source": [
        "my_square = MySquare.apply"
      ],
      "execution_count": 13,
      "outputs": []
    },
    {
      "cell_type": "code",
      "metadata": {
        "id": "ydSN33arBHWr"
      },
      "source": [
        "x = torch.tensor([3])\n",
        "y = torch.tensor([10])\n",
        "a = torch.tensor([1.], requires_grad=True)\n",
        "b = torch.tensor([2.], requires_grad=True)\n",
        "\n",
        "y_hat = a*x + b\n",
        "z = y_hat - y\n",
        "L = my_square(z)"
      ],
      "execution_count": 14,
      "outputs": []
    },
    {
      "cell_type": "code",
      "metadata": {
        "id": "kUWPGAuHBOPx"
      },
      "source": [
        "L.backward(retain_graph=True)"
      ],
      "execution_count": 15,
      "outputs": []
    },
    {
      "cell_type": "code",
      "metadata": {
        "colab": {
          "base_uri": "https://localhost:8080/"
        },
        "id": "K3ziBzi5BQFq",
        "outputId": "111c7e99-626d-426f-f0a1-8cc9f65b2719"
      },
      "source": [
        "print(a.grad, b.grad)"
      ],
      "execution_count": 16,
      "outputs": [
        {
          "output_type": "stream",
          "name": "stdout",
          "text": [
            "tensor([-30.]) tensor([-10.])\n"
          ]
        }
      ]
    },
    {
      "cell_type": "code",
      "metadata": {
        "colab": {
          "base_uri": "https://localhost:8080/",
          "height": 561
        },
        "id": "Fmv4fyPQBTo9",
        "outputId": "11652ac1-21fa-44d2-cec9-3767193cf85b"
      },
      "source": [
        "make_dot(L)"
      ],
      "execution_count": 17,
      "outputs": [
        {
          "output_type": "execute_result",
          "data": {
            "text/plain": [
              "<graphviz.dot.Digraph at 0x7f49aa35a3d0>"
            ],
            "image/svg+xml": "<?xml version=\"1.0\" encoding=\"UTF-8\" standalone=\"no\"?>\n<!DOCTYPE svg PUBLIC \"-//W3C//DTD SVG 1.1//EN\"\n \"http://www.w3.org/Graphics/SVG/1.1/DTD/svg11.dtd\">\n<!-- Generated by graphviz version 2.40.1 (20161225.0304)\n -->\n<!-- Title: %3 Pages: 1 -->\n<svg width=\"232pt\" height=\"405pt\"\n viewBox=\"0.00 0.00 231.50 405.00\" xmlns=\"http://www.w3.org/2000/svg\" xmlns:xlink=\"http://www.w3.org/1999/xlink\">\n<g id=\"graph0\" class=\"graph\" transform=\"scale(1 1) rotate(0) translate(4 401)\">\n<title>%3</title>\n<polygon fill=\"#ffffff\" stroke=\"transparent\" points=\"-4,4 -4,-401 227.5,-401 227.5,4 -4,4\"/>\n<!-- 139954397673904 -->\n<g id=\"node1\" class=\"node\">\n<title>139954397673904</title>\n<polygon fill=\"#caff70\" stroke=\"#000000\" points=\"178.5,-31 124.5,-31 124.5,0 178.5,0 178.5,-31\"/>\n<text text-anchor=\"middle\" x=\"151.5\" y=\"-7\" font-family=\"monospace\" font-size=\"10.00\" fill=\"#000000\"> (1)</text>\n</g>\n<!-- 139954397810768 -->\n<g id=\"node2\" class=\"node\">\n<title>139954397810768</title>\n<polygon fill=\"#d3d3d3\" stroke=\"#000000\" points=\"208,-86 95,-86 95,-67 208,-67 208,-86\"/>\n<text text-anchor=\"middle\" x=\"151.5\" y=\"-74\" font-family=\"monospace\" font-size=\"10.00\" fill=\"#000000\">MySquareBackward</text>\n</g>\n<!-- 139954397810768&#45;&gt;139954397673904 -->\n<g id=\"edge9\" class=\"edge\">\n<title>139954397810768&#45;&gt;139954397673904</title>\n<path fill=\"none\" stroke=\"#000000\" d=\"M151.5,-66.9688C151.5,-60.1289 151.5,-50.5621 151.5,-41.5298\"/>\n<polygon fill=\"#000000\" stroke=\"#000000\" points=\"155.0001,-41.3678 151.5,-31.3678 148.0001,-41.3678 155.0001,-41.3678\"/>\n</g>\n<!-- 139954364981456 -->\n<g id=\"node3\" class=\"node\">\n<title>139954364981456</title>\n<polygon fill=\"#d3d3d3\" stroke=\"#000000\" points=\"151,-147 62,-147 62,-128 151,-128 151,-147\"/>\n<text text-anchor=\"middle\" x=\"106.5\" y=\"-135\" font-family=\"monospace\" font-size=\"10.00\" fill=\"#000000\">SubBackward0</text>\n</g>\n<!-- 139954364981456&#45;&gt;139954397810768 -->\n<g id=\"edge1\" class=\"edge\">\n<title>139954364981456&#45;&gt;139954397810768</title>\n<path fill=\"none\" stroke=\"#000000\" d=\"M113.5313,-127.9688C120.163,-118.9791 130.2696,-105.279 138.3887,-94.2731\"/>\n<polygon fill=\"#000000\" stroke=\"#000000\" points=\"141.2496,-96.2907 144.3696,-86.1656 135.6165,-92.1351 141.2496,-96.2907\"/>\n</g>\n<!-- 139954364984976 -->\n<g id=\"node4\" class=\"node\">\n<title>139954364984976</title>\n<polygon fill=\"#d3d3d3\" stroke=\"#000000\" points=\"151,-208 62,-208 62,-189 151,-189 151,-208\"/>\n<text text-anchor=\"middle\" x=\"106.5\" y=\"-196\" font-family=\"monospace\" font-size=\"10.00\" fill=\"#000000\">AddBackward0</text>\n</g>\n<!-- 139954364984976&#45;&gt;139954364981456 -->\n<g id=\"edge2\" class=\"edge\">\n<title>139954364984976&#45;&gt;139954364981456</title>\n<path fill=\"none\" stroke=\"#000000\" d=\"M106.5,-188.9688C106.5,-180.5131 106.5,-167.8901 106.5,-157.2615\"/>\n<polygon fill=\"#000000\" stroke=\"#000000\" points=\"110.0001,-157.1656 106.5,-147.1656 103.0001,-157.1657 110.0001,-157.1656\"/>\n</g>\n<!-- 139954364982416 -->\n<g id=\"node5\" class=\"node\">\n<title>139954364982416</title>\n<polygon fill=\"#d3d3d3\" stroke=\"#000000\" points=\"95,-263 6,-263 6,-244 95,-244 95,-263\"/>\n<text text-anchor=\"middle\" x=\"50.5\" y=\"-251\" font-family=\"monospace\" font-size=\"10.00\" fill=\"#000000\">MulBackward0</text>\n</g>\n<!-- 139954364982416&#45;&gt;139954364984976 -->\n<g id=\"edge3\" class=\"edge\">\n<title>139954364982416&#45;&gt;139954364984976</title>\n<path fill=\"none\" stroke=\"#000000\" d=\"M60.2545,-243.9197C68.1865,-236.1293 79.5788,-224.9405 89.0712,-215.6176\"/>\n<polygon fill=\"#000000\" stroke=\"#000000\" points=\"91.7982,-217.845 96.4802,-208.3408 86.8932,-212.8509 91.7982,-217.845\"/>\n</g>\n<!-- 139954364973200 -->\n<g id=\"node6\" class=\"node\">\n<title>139954364973200</title>\n<polygon fill=\"#d3d3d3\" stroke=\"#000000\" points=\"101,-324 0,-324 0,-305 101,-305 101,-324\"/>\n<text text-anchor=\"middle\" x=\"50.5\" y=\"-312\" font-family=\"monospace\" font-size=\"10.00\" fill=\"#000000\">AccumulateGrad</text>\n</g>\n<!-- 139954364973200&#45;&gt;139954364982416 -->\n<g id=\"edge4\" class=\"edge\">\n<title>139954364973200&#45;&gt;139954364982416</title>\n<path fill=\"none\" stroke=\"#000000\" d=\"M50.5,-304.9688C50.5,-296.5131 50.5,-283.8901 50.5,-273.2615\"/>\n<polygon fill=\"#000000\" stroke=\"#000000\" points=\"54.0001,-273.1656 50.5,-263.1656 47.0001,-273.1657 54.0001,-273.1656\"/>\n</g>\n<!-- 139954397680848 -->\n<g id=\"node7\" class=\"node\">\n<title>139954397680848</title>\n<polygon fill=\"#add8e6\" stroke=\"#000000\" points=\"77.5,-397 23.5,-397 23.5,-366 77.5,-366 77.5,-397\"/>\n<text text-anchor=\"middle\" x=\"50.5\" y=\"-373\" font-family=\"monospace\" font-size=\"10.00\" fill=\"#000000\"> (1)</text>\n</g>\n<!-- 139954397680848&#45;&gt;139954364973200 -->\n<g id=\"edge5\" class=\"edge\">\n<title>139954397680848&#45;&gt;139954364973200</title>\n<path fill=\"none\" stroke=\"#000000\" d=\"M50.5,-365.9604C50.5,-356.6356 50.5,-344.6748 50.5,-334.6317\"/>\n<polygon fill=\"#000000\" stroke=\"#000000\" points=\"54.0001,-334.35 50.5,-324.3501 47.0001,-334.3501 54.0001,-334.35\"/>\n</g>\n<!-- 139954364984144 -->\n<g id=\"node8\" class=\"node\">\n<title>139954364984144</title>\n<polygon fill=\"#d3d3d3\" stroke=\"#000000\" points=\"214,-263 113,-263 113,-244 214,-244 214,-263\"/>\n<text text-anchor=\"middle\" x=\"163.5\" y=\"-251\" font-family=\"monospace\" font-size=\"10.00\" fill=\"#000000\">AccumulateGrad</text>\n</g>\n<!-- 139954364984144&#45;&gt;139954364984976 -->\n<g id=\"edge6\" class=\"edge\">\n<title>139954364984144&#45;&gt;139954364984976</title>\n<path fill=\"none\" stroke=\"#000000\" d=\"M153.5714,-243.9197C145.4169,-236.0514 133.6697,-224.7164 123.9508,-215.3385\"/>\n<polygon fill=\"#000000\" stroke=\"#000000\" points=\"126.3252,-212.7659 116.6987,-208.3408 121.4646,-217.8032 126.3252,-212.7659\"/>\n</g>\n<!-- 139954397680752 -->\n<g id=\"node9\" class=\"node\">\n<title>139954397680752</title>\n<polygon fill=\"#add8e6\" stroke=\"#000000\" points=\"190.5,-330 136.5,-330 136.5,-299 190.5,-299 190.5,-330\"/>\n<text text-anchor=\"middle\" x=\"163.5\" y=\"-306\" font-family=\"monospace\" font-size=\"10.00\" fill=\"#000000\"> (1)</text>\n</g>\n<!-- 139954397680752&#45;&gt;139954364984144 -->\n<g id=\"edge7\" class=\"edge\">\n<title>139954397680752&#45;&gt;139954364984144</title>\n<path fill=\"none\" stroke=\"#000000\" d=\"M163.5,-298.791C163.5,-291.0249 163.5,-281.5706 163.5,-273.3129\"/>\n<polygon fill=\"#000000\" stroke=\"#000000\" points=\"167.0001,-273.0647 163.5,-263.0648 160.0001,-273.0648 167.0001,-273.0647\"/>\n</g>\n<!-- 139954397681616 -->\n<g id=\"node10\" class=\"node\">\n<title>139954397681616</title>\n<polygon fill=\"#ffa500\" stroke=\"#000000\" points=\"223.5,-153 169.5,-153 169.5,-122 223.5,-122 223.5,-153\"/>\n<text text-anchor=\"middle\" x=\"196.5\" y=\"-129\" font-family=\"monospace\" font-size=\"10.00\" fill=\"#000000\"> (1)</text>\n</g>\n<!-- 139954397681616&#45;&gt;139954397810768 -->\n<g id=\"edge8\" class=\"edge\">\n<title>139954397681616&#45;&gt;139954397810768</title>\n<path fill=\"none\" stroke=\"#000000\" d=\"M184.9114,-121.791C178.7266,-113.4071 171.0904,-103.0559 164.6801,-94.3664\"/>\n<polygon fill=\"#000000\" stroke=\"#000000\" points=\"167.3091,-92.0343 158.556,-86.0648 161.676,-96.1898 167.3091,-92.0343\"/>\n</g>\n</g>\n</svg>\n"
          },
          "metadata": {},
          "execution_count": 17
        }
      ]
    },
    {
      "cell_type": "code",
      "metadata": {
        "id": "CigEnO7BBVYc",
        "colab": {
          "base_uri": "https://localhost:8080/",
          "height": 345
        },
        "outputId": "fd24ba09-68fa-467b-838b-54e7579867c8"
      },
      "source": [
        "x = torch.tensor([1., 2., 3.], requires_grad=True)\n",
        "y = 2*x + 1\n",
        "y.backward()"
      ],
      "execution_count": 18,
      "outputs": [
        {
          "output_type": "error",
          "ename": "RuntimeError",
          "evalue": "ignored",
          "traceback": [
            "\u001b[0;31m---------------------------------------------------------------------------\u001b[0m",
            "\u001b[0;31mRuntimeError\u001b[0m                              Traceback (most recent call last)",
            "\u001b[0;32m<ipython-input-18-223c378e3067>\u001b[0m in \u001b[0;36m<module>\u001b[0;34m()\u001b[0m\n\u001b[1;32m      1\u001b[0m \u001b[0mx\u001b[0m \u001b[0;34m=\u001b[0m \u001b[0mtorch\u001b[0m\u001b[0;34m.\u001b[0m\u001b[0mtensor\u001b[0m\u001b[0;34m(\u001b[0m\u001b[0;34m[\u001b[0m\u001b[0;36m1.\u001b[0m\u001b[0;34m,\u001b[0m \u001b[0;36m2.\u001b[0m\u001b[0;34m,\u001b[0m \u001b[0;36m3.\u001b[0m\u001b[0;34m]\u001b[0m\u001b[0;34m,\u001b[0m \u001b[0mrequires_grad\u001b[0m\u001b[0;34m=\u001b[0m\u001b[0;32mTrue\u001b[0m\u001b[0;34m)\u001b[0m\u001b[0;34m\u001b[0m\u001b[0;34m\u001b[0m\u001b[0m\n\u001b[1;32m      2\u001b[0m \u001b[0my\u001b[0m \u001b[0;34m=\u001b[0m \u001b[0;36m2\u001b[0m\u001b[0;34m*\u001b[0m\u001b[0mx\u001b[0m \u001b[0;34m+\u001b[0m \u001b[0;36m1\u001b[0m\u001b[0;34m\u001b[0m\u001b[0;34m\u001b[0m\u001b[0m\n\u001b[0;32m----> 3\u001b[0;31m \u001b[0my\u001b[0m\u001b[0;34m.\u001b[0m\u001b[0mbackward\u001b[0m\u001b[0;34m(\u001b[0m\u001b[0;34m)\u001b[0m\u001b[0;34m\u001b[0m\u001b[0;34m\u001b[0m\u001b[0m\n\u001b[0m",
            "\u001b[0;32m/usr/local/lib/python3.7/dist-packages/torch/_tensor.py\u001b[0m in \u001b[0;36mbackward\u001b[0;34m(self, gradient, retain_graph, create_graph, inputs)\u001b[0m\n\u001b[1;32m    305\u001b[0m                 \u001b[0mcreate_graph\u001b[0m\u001b[0;34m=\u001b[0m\u001b[0mcreate_graph\u001b[0m\u001b[0;34m,\u001b[0m\u001b[0;34m\u001b[0m\u001b[0;34m\u001b[0m\u001b[0m\n\u001b[1;32m    306\u001b[0m                 inputs=inputs)\n\u001b[0;32m--> 307\u001b[0;31m         \u001b[0mtorch\u001b[0m\u001b[0;34m.\u001b[0m\u001b[0mautograd\u001b[0m\u001b[0;34m.\u001b[0m\u001b[0mbackward\u001b[0m\u001b[0;34m(\u001b[0m\u001b[0mself\u001b[0m\u001b[0;34m,\u001b[0m \u001b[0mgradient\u001b[0m\u001b[0;34m,\u001b[0m \u001b[0mretain_graph\u001b[0m\u001b[0;34m,\u001b[0m \u001b[0mcreate_graph\u001b[0m\u001b[0;34m,\u001b[0m \u001b[0minputs\u001b[0m\u001b[0;34m=\u001b[0m\u001b[0minputs\u001b[0m\u001b[0;34m)\u001b[0m\u001b[0;34m\u001b[0m\u001b[0;34m\u001b[0m\u001b[0m\n\u001b[0m\u001b[1;32m    308\u001b[0m \u001b[0;34m\u001b[0m\u001b[0m\n\u001b[1;32m    309\u001b[0m     \u001b[0;32mdef\u001b[0m \u001b[0mregister_hook\u001b[0m\u001b[0;34m(\u001b[0m\u001b[0mself\u001b[0m\u001b[0;34m,\u001b[0m \u001b[0mhook\u001b[0m\u001b[0;34m)\u001b[0m\u001b[0;34m:\u001b[0m\u001b[0;34m\u001b[0m\u001b[0;34m\u001b[0m\u001b[0m\n",
            "\u001b[0;32m/usr/local/lib/python3.7/dist-packages/torch/autograd/__init__.py\u001b[0m in \u001b[0;36mbackward\u001b[0;34m(tensors, grad_tensors, retain_graph, create_graph, grad_variables, inputs)\u001b[0m\n\u001b[1;32m    148\u001b[0m \u001b[0;34m\u001b[0m\u001b[0m\n\u001b[1;32m    149\u001b[0m     \u001b[0mgrad_tensors_\u001b[0m \u001b[0;34m=\u001b[0m \u001b[0m_tensor_or_tensors_to_tuple\u001b[0m\u001b[0;34m(\u001b[0m\u001b[0mgrad_tensors\u001b[0m\u001b[0;34m,\u001b[0m \u001b[0mlen\u001b[0m\u001b[0;34m(\u001b[0m\u001b[0mtensors\u001b[0m\u001b[0;34m)\u001b[0m\u001b[0;34m)\u001b[0m\u001b[0;34m\u001b[0m\u001b[0;34m\u001b[0m\u001b[0m\n\u001b[0;32m--> 150\u001b[0;31m     \u001b[0mgrad_tensors_\u001b[0m \u001b[0;34m=\u001b[0m \u001b[0m_make_grads\u001b[0m\u001b[0;34m(\u001b[0m\u001b[0mtensors\u001b[0m\u001b[0;34m,\u001b[0m \u001b[0mgrad_tensors_\u001b[0m\u001b[0;34m)\u001b[0m\u001b[0;34m\u001b[0m\u001b[0;34m\u001b[0m\u001b[0m\n\u001b[0m\u001b[1;32m    151\u001b[0m     \u001b[0;32mif\u001b[0m \u001b[0mretain_graph\u001b[0m \u001b[0;32mis\u001b[0m \u001b[0;32mNone\u001b[0m\u001b[0;34m:\u001b[0m\u001b[0;34m\u001b[0m\u001b[0;34m\u001b[0m\u001b[0m\n\u001b[1;32m    152\u001b[0m         \u001b[0mretain_graph\u001b[0m \u001b[0;34m=\u001b[0m \u001b[0mcreate_graph\u001b[0m\u001b[0;34m\u001b[0m\u001b[0;34m\u001b[0m\u001b[0m\n",
            "\u001b[0;32m/usr/local/lib/python3.7/dist-packages/torch/autograd/__init__.py\u001b[0m in \u001b[0;36m_make_grads\u001b[0;34m(outputs, grads)\u001b[0m\n\u001b[1;32m     49\u001b[0m             \u001b[0;32mif\u001b[0m \u001b[0mout\u001b[0m\u001b[0;34m.\u001b[0m\u001b[0mrequires_grad\u001b[0m\u001b[0;34m:\u001b[0m\u001b[0;34m\u001b[0m\u001b[0;34m\u001b[0m\u001b[0m\n\u001b[1;32m     50\u001b[0m                 \u001b[0;32mif\u001b[0m \u001b[0mout\u001b[0m\u001b[0;34m.\u001b[0m\u001b[0mnumel\u001b[0m\u001b[0;34m(\u001b[0m\u001b[0;34m)\u001b[0m \u001b[0;34m!=\u001b[0m \u001b[0;36m1\u001b[0m\u001b[0;34m:\u001b[0m\u001b[0;34m\u001b[0m\u001b[0;34m\u001b[0m\u001b[0m\n\u001b[0;32m---> 51\u001b[0;31m                     \u001b[0;32mraise\u001b[0m \u001b[0mRuntimeError\u001b[0m\u001b[0;34m(\u001b[0m\u001b[0;34m\"grad can be implicitly created only for scalar outputs\"\u001b[0m\u001b[0;34m)\u001b[0m\u001b[0;34m\u001b[0m\u001b[0;34m\u001b[0m\u001b[0m\n\u001b[0m\u001b[1;32m     52\u001b[0m                 \u001b[0mnew_grads\u001b[0m\u001b[0;34m.\u001b[0m\u001b[0mappend\u001b[0m\u001b[0;34m(\u001b[0m\u001b[0mtorch\u001b[0m\u001b[0;34m.\u001b[0m\u001b[0mones_like\u001b[0m\u001b[0;34m(\u001b[0m\u001b[0mout\u001b[0m\u001b[0;34m,\u001b[0m \u001b[0mmemory_format\u001b[0m\u001b[0;34m=\u001b[0m\u001b[0mtorch\u001b[0m\u001b[0;34m.\u001b[0m\u001b[0mpreserve_format\u001b[0m\u001b[0;34m)\u001b[0m\u001b[0;34m)\u001b[0m\u001b[0;34m\u001b[0m\u001b[0;34m\u001b[0m\u001b[0m\n\u001b[1;32m     53\u001b[0m             \u001b[0;32melse\u001b[0m\u001b[0;34m:\u001b[0m\u001b[0;34m\u001b[0m\u001b[0;34m\u001b[0m\u001b[0m\n",
            "\u001b[0;31mRuntimeError\u001b[0m: grad can be implicitly created only for scalar outputs"
          ]
        }
      ]
    },
    {
      "cell_type": "code",
      "metadata": {
        "id": "8JwzISnnOZFT",
        "colab": {
          "base_uri": "https://localhost:8080/"
        },
        "outputId": "7b0056f2-6276-41b8-a727-af4ac8555843"
      },
      "source": [
        "x = torch.tensor([1., 2., 3.], requires_grad=True)\n",
        "y = 2*x + 1\n",
        "z = sum(y)\n",
        "z.backward()\n",
        "\n",
        "print(x.grad)"
      ],
      "execution_count": 19,
      "outputs": [
        {
          "output_type": "stream",
          "name": "stdout",
          "text": [
            "tensor([2., 2., 2.])\n"
          ]
        }
      ]
    },
    {
      "cell_type": "code",
      "metadata": {
        "id": "r-05UzdbP4OA",
        "colab": {
          "base_uri": "https://localhost:8080/"
        },
        "outputId": "da95fad6-5b67-409c-92a8-375aa7ee1ec4"
      },
      "source": [
        "x = torch.tensor([1., 2., 3.], requires_grad=True)\n",
        "y = 2*x + 1\n",
        "y.backward(gradient=torch.tensor([1, 2, 1]))\n",
        "\n",
        "print(x.grad)"
      ],
      "execution_count": 22,
      "outputs": [
        {
          "output_type": "stream",
          "name": "stdout",
          "text": [
            "tensor([2., 4., 2.])\n"
          ]
        }
      ]
    },
    {
      "cell_type": "code",
      "metadata": {
        "colab": {
          "base_uri": "https://localhost:8080/",
          "height": 380
        },
        "id": "PjQzGMgT2HWs",
        "outputId": "c309a63a-fba8-4938-df76-e2f66da361ed"
      },
      "source": [
        "x = torch.tensor([1., 2., 3.], requires_grad=True)\n",
        "y = 2*x + 1\n",
        "z = sum(y)\n",
        "z.backward()\n",
        "print(x.grad)\n",
        "z.backward()"
      ],
      "execution_count": 24,
      "outputs": [
        {
          "output_type": "stream",
          "name": "stdout",
          "text": [
            "tensor([2., 2., 2.])\n"
          ]
        },
        {
          "output_type": "error",
          "ename": "RuntimeError",
          "evalue": "ignored",
          "traceback": [
            "\u001b[0;31m---------------------------------------------------------------------------\u001b[0m",
            "\u001b[0;31mRuntimeError\u001b[0m                              Traceback (most recent call last)",
            "\u001b[0;32m<ipython-input-24-7efabf61094e>\u001b[0m in \u001b[0;36m<module>\u001b[0;34m()\u001b[0m\n\u001b[1;32m      4\u001b[0m \u001b[0mz\u001b[0m\u001b[0;34m.\u001b[0m\u001b[0mbackward\u001b[0m\u001b[0;34m(\u001b[0m\u001b[0;34m)\u001b[0m\u001b[0;34m\u001b[0m\u001b[0;34m\u001b[0m\u001b[0m\n\u001b[1;32m      5\u001b[0m \u001b[0mprint\u001b[0m\u001b[0;34m(\u001b[0m\u001b[0mx\u001b[0m\u001b[0;34m.\u001b[0m\u001b[0mgrad\u001b[0m\u001b[0;34m)\u001b[0m\u001b[0;34m\u001b[0m\u001b[0;34m\u001b[0m\u001b[0m\n\u001b[0;32m----> 6\u001b[0;31m \u001b[0mz\u001b[0m\u001b[0;34m.\u001b[0m\u001b[0mbackward\u001b[0m\u001b[0;34m(\u001b[0m\u001b[0;34m)\u001b[0m\u001b[0;34m\u001b[0m\u001b[0;34m\u001b[0m\u001b[0m\n\u001b[0m",
            "\u001b[0;32m/usr/local/lib/python3.7/dist-packages/torch/_tensor.py\u001b[0m in \u001b[0;36mbackward\u001b[0;34m(self, gradient, retain_graph, create_graph, inputs)\u001b[0m\n\u001b[1;32m    305\u001b[0m                 \u001b[0mcreate_graph\u001b[0m\u001b[0;34m=\u001b[0m\u001b[0mcreate_graph\u001b[0m\u001b[0;34m,\u001b[0m\u001b[0;34m\u001b[0m\u001b[0;34m\u001b[0m\u001b[0m\n\u001b[1;32m    306\u001b[0m                 inputs=inputs)\n\u001b[0;32m--> 307\u001b[0;31m         \u001b[0mtorch\u001b[0m\u001b[0;34m.\u001b[0m\u001b[0mautograd\u001b[0m\u001b[0;34m.\u001b[0m\u001b[0mbackward\u001b[0m\u001b[0;34m(\u001b[0m\u001b[0mself\u001b[0m\u001b[0;34m,\u001b[0m \u001b[0mgradient\u001b[0m\u001b[0;34m,\u001b[0m \u001b[0mretain_graph\u001b[0m\u001b[0;34m,\u001b[0m \u001b[0mcreate_graph\u001b[0m\u001b[0;34m,\u001b[0m \u001b[0minputs\u001b[0m\u001b[0;34m=\u001b[0m\u001b[0minputs\u001b[0m\u001b[0;34m)\u001b[0m\u001b[0;34m\u001b[0m\u001b[0;34m\u001b[0m\u001b[0m\n\u001b[0m\u001b[1;32m    308\u001b[0m \u001b[0;34m\u001b[0m\u001b[0m\n\u001b[1;32m    309\u001b[0m     \u001b[0;32mdef\u001b[0m \u001b[0mregister_hook\u001b[0m\u001b[0;34m(\u001b[0m\u001b[0mself\u001b[0m\u001b[0;34m,\u001b[0m \u001b[0mhook\u001b[0m\u001b[0;34m)\u001b[0m\u001b[0;34m:\u001b[0m\u001b[0;34m\u001b[0m\u001b[0;34m\u001b[0m\u001b[0m\n",
            "\u001b[0;32m/usr/local/lib/python3.7/dist-packages/torch/autograd/__init__.py\u001b[0m in \u001b[0;36mbackward\u001b[0;34m(tensors, grad_tensors, retain_graph, create_graph, grad_variables, inputs)\u001b[0m\n\u001b[1;32m    154\u001b[0m     Variable._execution_engine.run_backward(\n\u001b[1;32m    155\u001b[0m         \u001b[0mtensors\u001b[0m\u001b[0;34m,\u001b[0m \u001b[0mgrad_tensors_\u001b[0m\u001b[0;34m,\u001b[0m \u001b[0mretain_graph\u001b[0m\u001b[0;34m,\u001b[0m \u001b[0mcreate_graph\u001b[0m\u001b[0;34m,\u001b[0m \u001b[0minputs\u001b[0m\u001b[0;34m,\u001b[0m\u001b[0;34m\u001b[0m\u001b[0;34m\u001b[0m\u001b[0m\n\u001b[0;32m--> 156\u001b[0;31m         allow_unreachable=True, accumulate_grad=True)  # allow_unreachable flag\n\u001b[0m\u001b[1;32m    157\u001b[0m \u001b[0;34m\u001b[0m\u001b[0m\n\u001b[1;32m    158\u001b[0m \u001b[0;34m\u001b[0m\u001b[0m\n",
            "\u001b[0;31mRuntimeError\u001b[0m: Trying to backward through the graph a second time (or directly access saved tensors after they have already been freed). Saved intermediate values of the graph are freed when you call .backward() or autograd.grad(). Specify retain_graph=True if you need to backward through the graph a second time or if you need to access saved tensors after calling backward."
          ]
        }
      ]
    },
    {
      "cell_type": "code",
      "metadata": {
        "id": "g3sX79ibp8Uc",
        "colab": {
          "base_uri": "https://localhost:8080/"
        },
        "outputId": "4da5c425-a172-4ac8-a505-48012ecdaf89"
      },
      "source": [
        "x = torch.tensor([1., 2., 3.], requires_grad=True)\n",
        "y = 2*x + 1\n",
        "z = sum(y)\n",
        "z.backward(retain_graph=True)\n",
        "print(x.grad) # 2, 2, 2\n",
        "z.backward(retain_graph=True)\n",
        "print(x.grad) # 4, 4, 4"
      ],
      "execution_count": 25,
      "outputs": [
        {
          "output_type": "stream",
          "name": "stdout",
          "text": [
            "tensor([2., 2., 2.])\n",
            "tensor([4., 4., 4.])\n"
          ]
        }
      ]
    },
    {
      "cell_type": "code",
      "metadata": {
        "colab": {
          "base_uri": "https://localhost:8080/",
          "height": 545
        },
        "id": "JusnGZ4JsKCq",
        "outputId": "8862f659-3213-47c0-b908-457903cfa065"
      },
      "source": [
        "x = torch.tensor([3])\n",
        "y = torch.tensor([10])\n",
        "a = torch.tensor([1.], requires_grad=True)\n",
        "b = torch.tensor([2.], requires_grad=True)\n",
        "c = a*x\n",
        "y_hat = c + b\n",
        "z = y_hat - y\n",
        "L = z**2\n",
        "make_dot(L)"
      ],
      "execution_count": 26,
      "outputs": [
        {
          "output_type": "execute_result",
          "data": {
            "text/plain": [
              "<graphviz.dot.Digraph at 0x7f49aa340a50>"
            ],
            "image/svg+xml": "<?xml version=\"1.0\" encoding=\"UTF-8\" standalone=\"no\"?>\n<!DOCTYPE svg PUBLIC \"-//W3C//DTD SVG 1.1//EN\"\n \"http://www.w3.org/Graphics/SVG/1.1/DTD/svg11.dtd\">\n<!-- Generated by graphviz version 2.40.1 (20161225.0304)\n -->\n<!-- Title: %3 Pages: 1 -->\n<svg width=\"222pt\" height=\"393pt\"\n viewBox=\"0.00 0.00 222.00 393.00\" xmlns=\"http://www.w3.org/2000/svg\" xmlns:xlink=\"http://www.w3.org/1999/xlink\">\n<g id=\"graph0\" class=\"graph\" transform=\"scale(1 1) rotate(0) translate(4 389)\">\n<title>%3</title>\n<polygon fill=\"#ffffff\" stroke=\"transparent\" points=\"-4,4 -4,-389 218,-389 218,4 -4,4\"/>\n<!-- 139954397809264 -->\n<g id=\"node1\" class=\"node\">\n<title>139954397809264</title>\n<polygon fill=\"#caff70\" stroke=\"#000000\" points=\"133.5,-31 79.5,-31 79.5,0 133.5,0 133.5,-31\"/>\n<text text-anchor=\"middle\" x=\"106.5\" y=\"-7\" font-family=\"monospace\" font-size=\"10.00\" fill=\"#000000\"> (1)</text>\n</g>\n<!-- 139954364878096 -->\n<g id=\"node2\" class=\"node\">\n<title>139954364878096</title>\n<polygon fill=\"#d3d3d3\" stroke=\"#000000\" points=\"151,-86 62,-86 62,-67 151,-67 151,-86\"/>\n<text text-anchor=\"middle\" x=\"106.5\" y=\"-74\" font-family=\"monospace\" font-size=\"10.00\" fill=\"#000000\">PowBackward0</text>\n</g>\n<!-- 139954364878096&#45;&gt;139954397809264 -->\n<g id=\"edge8\" class=\"edge\">\n<title>139954364878096&#45;&gt;139954397809264</title>\n<path fill=\"none\" stroke=\"#000000\" d=\"M106.5,-66.9688C106.5,-60.1289 106.5,-50.5621 106.5,-41.5298\"/>\n<polygon fill=\"#000000\" stroke=\"#000000\" points=\"110.0001,-41.3678 106.5,-31.3678 103.0001,-41.3678 110.0001,-41.3678\"/>\n</g>\n<!-- 139954364876560 -->\n<g id=\"node3\" class=\"node\">\n<title>139954364876560</title>\n<polygon fill=\"#d3d3d3\" stroke=\"#000000\" points=\"151,-141 62,-141 62,-122 151,-122 151,-141\"/>\n<text text-anchor=\"middle\" x=\"106.5\" y=\"-129\" font-family=\"monospace\" font-size=\"10.00\" fill=\"#000000\">SubBackward0</text>\n</g>\n<!-- 139954364876560&#45;&gt;139954364878096 -->\n<g id=\"edge1\" class=\"edge\">\n<title>139954364876560&#45;&gt;139954364878096</title>\n<path fill=\"none\" stroke=\"#000000\" d=\"M106.5,-121.9197C106.5,-114.9083 106.5,-105.1442 106.5,-96.4652\"/>\n<polygon fill=\"#000000\" stroke=\"#000000\" points=\"110.0001,-96.3408 106.5,-86.3408 103.0001,-96.3409 110.0001,-96.3408\"/>\n</g>\n<!-- 139954364875216 -->\n<g id=\"node4\" class=\"node\">\n<title>139954364875216</title>\n<polygon fill=\"#d3d3d3\" stroke=\"#000000\" points=\"151,-196 62,-196 62,-177 151,-177 151,-196\"/>\n<text text-anchor=\"middle\" x=\"106.5\" y=\"-184\" font-family=\"monospace\" font-size=\"10.00\" fill=\"#000000\">AddBackward0</text>\n</g>\n<!-- 139954364875216&#45;&gt;139954364876560 -->\n<g id=\"edge2\" class=\"edge\">\n<title>139954364875216&#45;&gt;139954364876560</title>\n<path fill=\"none\" stroke=\"#000000\" d=\"M106.5,-176.9197C106.5,-169.9083 106.5,-160.1442 106.5,-151.4652\"/>\n<polygon fill=\"#000000\" stroke=\"#000000\" points=\"110.0001,-151.3408 106.5,-141.3408 103.0001,-151.3409 110.0001,-151.3408\"/>\n</g>\n<!-- 139958779193360 -->\n<g id=\"node5\" class=\"node\">\n<title>139958779193360</title>\n<polygon fill=\"#d3d3d3\" stroke=\"#000000\" points=\"95,-251 6,-251 6,-232 95,-232 95,-251\"/>\n<text text-anchor=\"middle\" x=\"50.5\" y=\"-239\" font-family=\"monospace\" font-size=\"10.00\" fill=\"#000000\">MulBackward0</text>\n</g>\n<!-- 139958779193360&#45;&gt;139954364875216 -->\n<g id=\"edge3\" class=\"edge\">\n<title>139958779193360&#45;&gt;139954364875216</title>\n<path fill=\"none\" stroke=\"#000000\" d=\"M60.2545,-231.9197C68.1865,-224.1293 79.5788,-212.9405 89.0712,-203.6176\"/>\n<polygon fill=\"#000000\" stroke=\"#000000\" points=\"91.7982,-205.845 96.4802,-196.3408 86.8932,-200.8509 91.7982,-205.845\"/>\n</g>\n<!-- 139954364874896 -->\n<g id=\"node6\" class=\"node\">\n<title>139954364874896</title>\n<polygon fill=\"#d3d3d3\" stroke=\"#000000\" points=\"101,-312 0,-312 0,-293 101,-293 101,-312\"/>\n<text text-anchor=\"middle\" x=\"50.5\" y=\"-300\" font-family=\"monospace\" font-size=\"10.00\" fill=\"#000000\">AccumulateGrad</text>\n</g>\n<!-- 139954364874896&#45;&gt;139958779193360 -->\n<g id=\"edge4\" class=\"edge\">\n<title>139954364874896&#45;&gt;139958779193360</title>\n<path fill=\"none\" stroke=\"#000000\" d=\"M50.5,-292.9688C50.5,-284.5131 50.5,-271.8901 50.5,-261.2615\"/>\n<polygon fill=\"#000000\" stroke=\"#000000\" points=\"54.0001,-261.1656 50.5,-251.1656 47.0001,-261.1657 54.0001,-261.1656\"/>\n</g>\n<!-- 139954397880144 -->\n<g id=\"node7\" class=\"node\">\n<title>139954397880144</title>\n<polygon fill=\"#add8e6\" stroke=\"#000000\" points=\"77.5,-385 23.5,-385 23.5,-354 77.5,-354 77.5,-385\"/>\n<text text-anchor=\"middle\" x=\"50.5\" y=\"-361\" font-family=\"monospace\" font-size=\"10.00\" fill=\"#000000\"> (1)</text>\n</g>\n<!-- 139954397880144&#45;&gt;139954364874896 -->\n<g id=\"edge5\" class=\"edge\">\n<title>139954397880144&#45;&gt;139954364874896</title>\n<path fill=\"none\" stroke=\"#000000\" d=\"M50.5,-353.9604C50.5,-344.6356 50.5,-332.6748 50.5,-322.6317\"/>\n<polygon fill=\"#000000\" stroke=\"#000000\" points=\"54.0001,-322.35 50.5,-312.3501 47.0001,-322.3501 54.0001,-322.35\"/>\n</g>\n<!-- 139954364877776 -->\n<g id=\"node8\" class=\"node\">\n<title>139954364877776</title>\n<polygon fill=\"#d3d3d3\" stroke=\"#000000\" points=\"214,-251 113,-251 113,-232 214,-232 214,-251\"/>\n<text text-anchor=\"middle\" x=\"163.5\" y=\"-239\" font-family=\"monospace\" font-size=\"10.00\" fill=\"#000000\">AccumulateGrad</text>\n</g>\n<!-- 139954364877776&#45;&gt;139954364875216 -->\n<g id=\"edge6\" class=\"edge\">\n<title>139954364877776&#45;&gt;139954364875216</title>\n<path fill=\"none\" stroke=\"#000000\" d=\"M153.5714,-231.9197C145.4169,-224.0514 133.6697,-212.7164 123.9508,-203.3385\"/>\n<polygon fill=\"#000000\" stroke=\"#000000\" points=\"126.3252,-200.7659 116.6987,-196.3408 121.4646,-205.8032 126.3252,-200.7659\"/>\n</g>\n<!-- 139954397880048 -->\n<g id=\"node9\" class=\"node\">\n<title>139954397880048</title>\n<polygon fill=\"#add8e6\" stroke=\"#000000\" points=\"190.5,-318 136.5,-318 136.5,-287 190.5,-287 190.5,-318\"/>\n<text text-anchor=\"middle\" x=\"163.5\" y=\"-294\" font-family=\"monospace\" font-size=\"10.00\" fill=\"#000000\"> (1)</text>\n</g>\n<!-- 139954397880048&#45;&gt;139954364877776 -->\n<g id=\"edge7\" class=\"edge\">\n<title>139954397880048&#45;&gt;139954364877776</title>\n<path fill=\"none\" stroke=\"#000000\" d=\"M163.5,-286.791C163.5,-279.0249 163.5,-269.5706 163.5,-261.3129\"/>\n<polygon fill=\"#000000\" stroke=\"#000000\" points=\"167.0001,-261.0647 163.5,-251.0648 160.0001,-261.0648 167.0001,-261.0647\"/>\n</g>\n</g>\n</svg>\n"
          },
          "metadata": {},
          "execution_count": 26
        }
      ]
    },
    {
      "cell_type": "code",
      "metadata": {
        "colab": {
          "base_uri": "https://localhost:8080/",
          "height": 456
        },
        "id": "3sjbZkcHzM_H",
        "outputId": "8a03f102-96e9-42a1-8aa8-b96daa3ee041"
      },
      "source": [
        "x = torch.tensor([3])\n",
        "y = torch.tensor([10])\n",
        "a = torch.tensor([1.], requires_grad=True)\n",
        "a.requires_grad = False\n",
        "b = torch.tensor([2.], requires_grad=True)\n",
        "c = a*x\n",
        "y_hat = c + b\n",
        "z = y_hat - y\n",
        "L = z**2\n",
        "make_dot(L)"
      ],
      "execution_count": 27,
      "outputs": [
        {
          "output_type": "execute_result",
          "data": {
            "text/plain": [
              "<graphviz.dot.Digraph at 0x7f49aa34b7d0>"
            ],
            "image/svg+xml": "<?xml version=\"1.0\" encoding=\"UTF-8\" standalone=\"no\"?>\n<!DOCTYPE svg PUBLIC \"-//W3C//DTD SVG 1.1//EN\"\n \"http://www.w3.org/Graphics/SVG/1.1/DTD/svg11.dtd\">\n<!-- Generated by graphviz version 2.40.1 (20161225.0304)\n -->\n<!-- Title: %3 Pages: 1 -->\n<svg width=\"109pt\" height=\"326pt\"\n viewBox=\"0.00 0.00 109.00 326.00\" xmlns=\"http://www.w3.org/2000/svg\" xmlns:xlink=\"http://www.w3.org/1999/xlink\">\n<g id=\"graph0\" class=\"graph\" transform=\"scale(1 1) rotate(0) translate(4 322)\">\n<title>%3</title>\n<polygon fill=\"#ffffff\" stroke=\"transparent\" points=\"-4,4 -4,-322 105,-322 105,4 -4,4\"/>\n<!-- 139954397884880 -->\n<g id=\"node1\" class=\"node\">\n<title>139954397884880</title>\n<polygon fill=\"#caff70\" stroke=\"#000000\" points=\"77.5,-31 23.5,-31 23.5,0 77.5,0 77.5,-31\"/>\n<text text-anchor=\"middle\" x=\"50.5\" y=\"-7\" font-family=\"monospace\" font-size=\"10.00\" fill=\"#000000\"> (1)</text>\n</g>\n<!-- 139958726895184 -->\n<g id=\"node2\" class=\"node\">\n<title>139958726895184</title>\n<polygon fill=\"#d3d3d3\" stroke=\"#000000\" points=\"95,-86 6,-86 6,-67 95,-67 95,-86\"/>\n<text text-anchor=\"middle\" x=\"50.5\" y=\"-74\" font-family=\"monospace\" font-size=\"10.00\" fill=\"#000000\">PowBackward0</text>\n</g>\n<!-- 139958726895184&#45;&gt;139954397884880 -->\n<g id=\"edge5\" class=\"edge\">\n<title>139958726895184&#45;&gt;139954397884880</title>\n<path fill=\"none\" stroke=\"#000000\" d=\"M50.5,-66.9688C50.5,-60.1289 50.5,-50.5621 50.5,-41.5298\"/>\n<polygon fill=\"#000000\" stroke=\"#000000\" points=\"54.0001,-41.3678 50.5,-31.3678 47.0001,-41.3678 54.0001,-41.3678\"/>\n</g>\n<!-- 139954364921936 -->\n<g id=\"node3\" class=\"node\">\n<title>139954364921936</title>\n<polygon fill=\"#d3d3d3\" stroke=\"#000000\" points=\"95,-141 6,-141 6,-122 95,-122 95,-141\"/>\n<text text-anchor=\"middle\" x=\"50.5\" y=\"-129\" font-family=\"monospace\" font-size=\"10.00\" fill=\"#000000\">SubBackward0</text>\n</g>\n<!-- 139954364921936&#45;&gt;139958726895184 -->\n<g id=\"edge1\" class=\"edge\">\n<title>139954364921936&#45;&gt;139958726895184</title>\n<path fill=\"none\" stroke=\"#000000\" d=\"M50.5,-121.9197C50.5,-114.9083 50.5,-105.1442 50.5,-96.4652\"/>\n<polygon fill=\"#000000\" stroke=\"#000000\" points=\"54.0001,-96.3408 50.5,-86.3408 47.0001,-96.3409 54.0001,-96.3408\"/>\n</g>\n<!-- 139954364920144 -->\n<g id=\"node4\" class=\"node\">\n<title>139954364920144</title>\n<polygon fill=\"#d3d3d3\" stroke=\"#000000\" points=\"95,-196 6,-196 6,-177 95,-177 95,-196\"/>\n<text text-anchor=\"middle\" x=\"50.5\" y=\"-184\" font-family=\"monospace\" font-size=\"10.00\" fill=\"#000000\">AddBackward0</text>\n</g>\n<!-- 139954364920144&#45;&gt;139954364921936 -->\n<g id=\"edge2\" class=\"edge\">\n<title>139954364920144&#45;&gt;139954364921936</title>\n<path fill=\"none\" stroke=\"#000000\" d=\"M50.5,-176.9197C50.5,-169.9083 50.5,-160.1442 50.5,-151.4652\"/>\n<polygon fill=\"#000000\" stroke=\"#000000\" points=\"54.0001,-151.3408 50.5,-141.3408 47.0001,-151.3409 54.0001,-151.3408\"/>\n</g>\n<!-- 139954364923600 -->\n<g id=\"node5\" class=\"node\">\n<title>139954364923600</title>\n<polygon fill=\"#d3d3d3\" stroke=\"#000000\" points=\"101,-251 0,-251 0,-232 101,-232 101,-251\"/>\n<text text-anchor=\"middle\" x=\"50.5\" y=\"-239\" font-family=\"monospace\" font-size=\"10.00\" fill=\"#000000\">AccumulateGrad</text>\n</g>\n<!-- 139954364923600&#45;&gt;139954364920144 -->\n<g id=\"edge3\" class=\"edge\">\n<title>139954364923600&#45;&gt;139954364920144</title>\n<path fill=\"none\" stroke=\"#000000\" d=\"M50.5,-231.9197C50.5,-224.9083 50.5,-215.1442 50.5,-206.4652\"/>\n<polygon fill=\"#000000\" stroke=\"#000000\" points=\"54.0001,-206.3408 50.5,-196.3408 47.0001,-206.3409 54.0001,-206.3408\"/>\n</g>\n<!-- 139954397885648 -->\n<g id=\"node6\" class=\"node\">\n<title>139954397885648</title>\n<polygon fill=\"#add8e6\" stroke=\"#000000\" points=\"77.5,-318 23.5,-318 23.5,-287 77.5,-287 77.5,-318\"/>\n<text text-anchor=\"middle\" x=\"50.5\" y=\"-294\" font-family=\"monospace\" font-size=\"10.00\" fill=\"#000000\"> (1)</text>\n</g>\n<!-- 139954397885648&#45;&gt;139954364923600 -->\n<g id=\"edge4\" class=\"edge\">\n<title>139954397885648&#45;&gt;139954364923600</title>\n<path fill=\"none\" stroke=\"#000000\" d=\"M50.5,-286.791C50.5,-279.0249 50.5,-269.5706 50.5,-261.3129\"/>\n<polygon fill=\"#000000\" stroke=\"#000000\" points=\"54.0001,-261.0647 50.5,-251.0648 47.0001,-261.0648 54.0001,-261.0647\"/>\n</g>\n</g>\n</svg>\n"
          },
          "metadata": {},
          "execution_count": 27
        }
      ]
    }
  ]
}