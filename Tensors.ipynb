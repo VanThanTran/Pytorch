{
  "nbformat": 4,
  "nbformat_minor": 5,
  "metadata": {
    "kernelspec": {
      "display_name": "Python 3",
      "language": "python",
      "name": "python3"
    },
    "language_info": {
      "codemirror_mode": {
        "name": "ipython",
        "version": 3
      },
      "file_extension": ".py",
      "mimetype": "text/x-python",
      "name": "python",
      "nbconvert_exporter": "python",
      "pygments_lexer": "ipython3",
      "version": "3.8.1"
    },
    "colab": {
      "name": "Tensors.ipynb",
      "provenance": [],
      "collapsed_sections": [
        "interstate-championship",
        "durable-ethiopia",
        "under-trustee",
        "preceding-mortgage",
        "promotional-biology",
        "personal-corpus",
        "earlier-spine",
        "WQcxu2gNyJUs",
        "honey-toolbox"
      ]
    },
    "accelerator": "GPU"
  },
  "cells": [
    {
      "cell_type": "code",
      "metadata": {
        "colab": {
          "base_uri": "https://localhost:8080/"
        },
        "id": "-odHJR5Wy_7Z",
        "outputId": "035c35c7-5a51-4f10-cfe4-9bbc5aef5fd9"
      },
      "source": [
        "!pip install torch"
      ],
      "id": "-odHJR5Wy_7Z",
      "execution_count": 1,
      "outputs": [
        {
          "output_type": "stream",
          "name": "stdout",
          "text": [
            "Requirement already satisfied: torch in /usr/local/lib/python3.7/dist-packages (1.10.0+cu111)\n",
            "Requirement already satisfied: typing-extensions in /usr/local/lib/python3.7/dist-packages (from torch) (3.10.0.2)\n"
          ]
        }
      ]
    },
    {
      "cell_type": "code",
      "metadata": {
        "id": "unlikely-oriental"
      },
      "source": [
        "import torch\n",
        "import numpy as np"
      ],
      "id": "unlikely-oriental",
      "execution_count": 2,
      "outputs": []
    },
    {
      "cell_type": "markdown",
      "metadata": {
        "id": "interstate-championship"
      },
      "source": [
        "# Vector"
      ],
      "id": "interstate-championship"
    },
    {
      "cell_type": "code",
      "metadata": {
        "id": "billion-chocolate"
      },
      "source": [
        "x = torch.tensor([1, 2, 3])"
      ],
      "id": "billion-chocolate",
      "execution_count": 3,
      "outputs": []
    },
    {
      "cell_type": "code",
      "metadata": {
        "colab": {
          "base_uri": "https://localhost:8080/"
        },
        "id": "twenty-wellington",
        "outputId": "14ff9e2c-7c9b-489d-a7c4-f970bc52c2af"
      },
      "source": [
        "x[0]"
      ],
      "id": "twenty-wellington",
      "execution_count": 4,
      "outputs": [
        {
          "output_type": "execute_result",
          "data": {
            "text/plain": [
              "tensor(1)"
            ]
          },
          "metadata": {},
          "execution_count": 4
        }
      ]
    },
    {
      "cell_type": "code",
      "metadata": {
        "colab": {
          "base_uri": "https://localhost:8080/"
        },
        "id": "simple-participant",
        "outputId": "6772a6b8-be87-44c2-e459-08012e6e2006"
      },
      "source": [
        "x.shape[0]"
      ],
      "id": "simple-participant",
      "execution_count": 5,
      "outputs": [
        {
          "output_type": "execute_result",
          "data": {
            "text/plain": [
              "3"
            ]
          },
          "metadata": {},
          "execution_count": 5
        }
      ]
    },
    {
      "cell_type": "code",
      "metadata": {
        "colab": {
          "base_uri": "https://localhost:8080/"
        },
        "id": "weird-arnold",
        "outputId": "4222ca66-3a72-44aa-8c39-207badfdaada"
      },
      "source": [
        "x[x.shape[0] - 1]"
      ],
      "id": "weird-arnold",
      "execution_count": 6,
      "outputs": [
        {
          "output_type": "execute_result",
          "data": {
            "text/plain": [
              "tensor(3)"
            ]
          },
          "metadata": {},
          "execution_count": 6
        }
      ]
    },
    {
      "cell_type": "code",
      "metadata": {
        "colab": {
          "base_uri": "https://localhost:8080/"
        },
        "id": "desirable-indonesian",
        "outputId": "9bb74273-469a-4a2e-ba70-827c1ae77145"
      },
      "source": [
        "x[-1]"
      ],
      "id": "desirable-indonesian",
      "execution_count": 7,
      "outputs": [
        {
          "output_type": "execute_result",
          "data": {
            "text/plain": [
              "tensor(3)"
            ]
          },
          "metadata": {},
          "execution_count": 7
        }
      ]
    },
    {
      "cell_type": "code",
      "metadata": {
        "id": "skilled-scotland"
      },
      "source": [
        "x = torch.tensor([1, 2, 3, 4, 5, 6, 7])"
      ],
      "id": "skilled-scotland",
      "execution_count": 8,
      "outputs": []
    },
    {
      "cell_type": "code",
      "metadata": {
        "colab": {
          "base_uri": "https://localhost:8080/"
        },
        "id": "sharing-recipe",
        "outputId": "837d923d-d443-4ffa-e00d-746ce7916243"
      },
      "source": [
        "x[::2]"
      ],
      "id": "sharing-recipe",
      "execution_count": 9,
      "outputs": [
        {
          "output_type": "execute_result",
          "data": {
            "text/plain": [
              "tensor([1, 3, 5, 7])"
            ]
          },
          "metadata": {},
          "execution_count": 9
        }
      ]
    },
    {
      "cell_type": "code",
      "metadata": {
        "colab": {
          "base_uri": "https://localhost:8080/"
        },
        "id": "automated-billy",
        "outputId": "4d5a667e-a72e-4b94-9b07-4dd6d0af2cb5"
      },
      "source": [
        "x[1:5:2]"
      ],
      "id": "automated-billy",
      "execution_count": 10,
      "outputs": [
        {
          "output_type": "execute_result",
          "data": {
            "text/plain": [
              "tensor([2, 4])"
            ]
          },
          "metadata": {},
          "execution_count": 10
        }
      ]
    },
    {
      "cell_type": "code",
      "metadata": {
        "colab": {
          "base_uri": "https://localhost:8080/",
          "height": 165
        },
        "id": "demographic-count",
        "outputId": "5b3acfce-653e-4383-d9dc-ababd94a4fd6"
      },
      "source": [
        "x[::-1]"
      ],
      "id": "demographic-count",
      "execution_count": 11,
      "outputs": [
        {
          "output_type": "error",
          "ename": "ValueError",
          "evalue": "ignored",
          "traceback": [
            "\u001b[0;31m---------------------------------------------------------------------------\u001b[0m",
            "\u001b[0;31mValueError\u001b[0m                                Traceback (most recent call last)",
            "\u001b[0;32m<ipython-input-11-fc433e12835a>\u001b[0m in \u001b[0;36m<module>\u001b[0;34m()\u001b[0m\n\u001b[0;32m----> 1\u001b[0;31m \u001b[0mx\u001b[0m\u001b[0;34m[\u001b[0m\u001b[0;34m:\u001b[0m\u001b[0;34m:\u001b[0m\u001b[0;34m-\u001b[0m\u001b[0;36m1\u001b[0m\u001b[0;34m]\u001b[0m\u001b[0;34m\u001b[0m\u001b[0;34m\u001b[0m\u001b[0m\n\u001b[0m",
            "\u001b[0;31mValueError\u001b[0m: step must be greater than zero"
          ]
        }
      ]
    },
    {
      "cell_type": "markdown",
      "metadata": {
        "id": "durable-ethiopia"
      },
      "source": [
        "# Matrix"
      ],
      "id": "durable-ethiopia"
    },
    {
      "cell_type": "code",
      "metadata": {
        "id": "latter-history"
      },
      "source": [
        "A = torch.tensor([[1, 2], [3, 4], [5, 6]])"
      ],
      "id": "latter-history",
      "execution_count": 12,
      "outputs": []
    },
    {
      "cell_type": "code",
      "metadata": {
        "colab": {
          "base_uri": "https://localhost:8080/"
        },
        "id": "logical-chicken",
        "outputId": "c60529ff-66e0-4391-f0a0-38212a6356f9"
      },
      "source": [
        "A[2, 1]"
      ],
      "id": "logical-chicken",
      "execution_count": 13,
      "outputs": [
        {
          "output_type": "execute_result",
          "data": {
            "text/plain": [
              "tensor(6)"
            ]
          },
          "metadata": {},
          "execution_count": 13
        }
      ]
    },
    {
      "cell_type": "code",
      "metadata": {
        "colab": {
          "base_uri": "https://localhost:8080/"
        },
        "id": "regulation-faculty",
        "outputId": "f291edd4-41a8-445e-9c27-a130f26dbcba"
      },
      "source": [
        "float(A[2, 1])"
      ],
      "id": "regulation-faculty",
      "execution_count": 14,
      "outputs": [
        {
          "output_type": "execute_result",
          "data": {
            "text/plain": [
              "6.0"
            ]
          },
          "metadata": {},
          "execution_count": 14
        }
      ]
    },
    {
      "cell_type": "code",
      "metadata": {
        "colab": {
          "base_uri": "https://localhost:8080/"
        },
        "id": "respected-flexibility",
        "outputId": "b128b54c-684e-418f-be93-ab0f570e3cef"
      },
      "source": [
        "A[1:, :1]"
      ],
      "id": "respected-flexibility",
      "execution_count": 15,
      "outputs": [
        {
          "output_type": "execute_result",
          "data": {
            "text/plain": [
              "tensor([[3],\n",
              "        [5]])"
            ]
          },
          "metadata": {},
          "execution_count": 15
        }
      ]
    },
    {
      "cell_type": "code",
      "metadata": {
        "colab": {
          "base_uri": "https://localhost:8080/"
        },
        "id": "welcome-drama",
        "outputId": "cd2cc7cf-234d-4724-e52a-ac59e7eab746"
      },
      "source": [
        "A[:, 1]"
      ],
      "id": "welcome-drama",
      "execution_count": 16,
      "outputs": [
        {
          "output_type": "execute_result",
          "data": {
            "text/plain": [
              "tensor([2, 4, 6])"
            ]
          },
          "metadata": {},
          "execution_count": 16
        }
      ]
    },
    {
      "cell_type": "markdown",
      "metadata": {
        "id": "under-trustee"
      },
      "source": [
        "# Dtype"
      ],
      "id": "under-trustee"
    },
    {
      "cell_type": "code",
      "metadata": {
        "id": "angry-ivory"
      },
      "source": [
        "points = torch.tensor([7, 8, 10, 6.5])"
      ],
      "id": "angry-ivory",
      "execution_count": 17,
      "outputs": []
    },
    {
      "cell_type": "code",
      "metadata": {
        "colab": {
          "base_uri": "https://localhost:8080/"
        },
        "id": "dramatic-midwest",
        "outputId": "07104b92-416d-4cf4-cf28-6c98ca1d3a99"
      },
      "source": [
        "points.dtype"
      ],
      "id": "dramatic-midwest",
      "execution_count": 18,
      "outputs": [
        {
          "output_type": "execute_result",
          "data": {
            "text/plain": [
              "torch.float32"
            ]
          },
          "metadata": {},
          "execution_count": 18
        }
      ]
    },
    {
      "cell_type": "code",
      "metadata": {
        "colab": {
          "base_uri": "https://localhost:8080/"
        },
        "id": "wanted-freedom",
        "outputId": "abf5f81d-384f-4592-f5d4-a9dbc41e3c29"
      },
      "source": [
        "points = torch.tensor([7, 8, 10, 6])\n",
        "points.dtype"
      ],
      "id": "wanted-freedom",
      "execution_count": 19,
      "outputs": [
        {
          "output_type": "execute_result",
          "data": {
            "text/plain": [
              "torch.int64"
            ]
          },
          "metadata": {},
          "execution_count": 19
        }
      ]
    },
    {
      "cell_type": "code",
      "metadata": {
        "colab": {
          "base_uri": "https://localhost:8080/"
        },
        "id": "downtown-armor",
        "outputId": "9cbba9ea-8b9f-41bf-9d9f-3c526dfac99c"
      },
      "source": [
        "points = torch.tensor([7, 8, 10, 6], dtype=torch.short)\n",
        "points.dtype"
      ],
      "id": "downtown-armor",
      "execution_count": 20,
      "outputs": [
        {
          "output_type": "execute_result",
          "data": {
            "text/plain": [
              "torch.int16"
            ]
          },
          "metadata": {},
          "execution_count": 20
        }
      ]
    },
    {
      "cell_type": "code",
      "metadata": {
        "colab": {
          "base_uri": "https://localhost:8080/"
        },
        "id": "metric-probability",
        "outputId": "96bfaf41-8d4f-41fe-a8e0-42d659a127b1"
      },
      "source": [
        "points = torch.tensor([7, 8, 10, 6]).short()\n",
        "points.dtype"
      ],
      "id": "metric-probability",
      "execution_count": 21,
      "outputs": [
        {
          "output_type": "execute_result",
          "data": {
            "text/plain": [
              "torch.int16"
            ]
          },
          "metadata": {},
          "execution_count": 21
        }
      ]
    },
    {
      "cell_type": "markdown",
      "metadata": {
        "id": "preceding-mortgage"
      },
      "source": [
        "# Transpose"
      ],
      "id": "preceding-mortgage"
    },
    {
      "cell_type": "code",
      "metadata": {
        "id": "fleet-retirement"
      },
      "source": [
        "A = torch.tensor([[1, 2], [3, 4], [5, 6]])"
      ],
      "id": "fleet-retirement",
      "execution_count": 22,
      "outputs": []
    },
    {
      "cell_type": "code",
      "metadata": {
        "colab": {
          "base_uri": "https://localhost:8080/"
        },
        "id": "governing-auckland",
        "outputId": "ceec68c1-932c-497a-c096-b23360894ba1"
      },
      "source": [
        "A"
      ],
      "id": "governing-auckland",
      "execution_count": 23,
      "outputs": [
        {
          "output_type": "execute_result",
          "data": {
            "text/plain": [
              "tensor([[1, 2],\n",
              "        [3, 4],\n",
              "        [5, 6]])"
            ]
          },
          "metadata": {},
          "execution_count": 23
        }
      ]
    },
    {
      "cell_type": "code",
      "metadata": {
        "colab": {
          "base_uri": "https://localhost:8080/"
        },
        "id": "immediate-native",
        "outputId": "44211eb9-d79a-44ac-c582-a3da8be07318"
      },
      "source": [
        "A_t = A.transpose(0, 1)\n",
        "A_t"
      ],
      "id": "immediate-native",
      "execution_count": 24,
      "outputs": [
        {
          "output_type": "execute_result",
          "data": {
            "text/plain": [
              "tensor([[1, 3, 5],\n",
              "        [2, 4, 6]])"
            ]
          },
          "metadata": {},
          "execution_count": 24
        }
      ]
    },
    {
      "cell_type": "code",
      "metadata": {
        "colab": {
          "base_uri": "https://localhost:8080/"
        },
        "id": "harmful-handbook",
        "outputId": "4d27d536-a892-40d1-e896-9115163eeeb5"
      },
      "source": [
        "A.shape, A_t.shape"
      ],
      "id": "harmful-handbook",
      "execution_count": 25,
      "outputs": [
        {
          "output_type": "execute_result",
          "data": {
            "text/plain": [
              "(torch.Size([3, 2]), torch.Size([2, 3]))"
            ]
          },
          "metadata": {},
          "execution_count": 25
        }
      ]
    },
    {
      "cell_type": "code",
      "metadata": {
        "id": "dirty-gathering"
      },
      "source": [
        "A = torch.tensor([[[1, 2, 3, 4], [5, 6, 7, 8], [9, 10, 11, 12]], [[13, 14, 15, 16], [17, 18, 19, 20], [21, 22, 23, 24]]])"
      ],
      "id": "dirty-gathering",
      "execution_count": 26,
      "outputs": []
    },
    {
      "cell_type": "code",
      "metadata": {
        "colab": {
          "base_uri": "https://localhost:8080/"
        },
        "id": "excited-phoenix",
        "outputId": "ed8059ac-96c5-4890-c097-4ef9cba0e0c0"
      },
      "source": [
        "A"
      ],
      "id": "excited-phoenix",
      "execution_count": 27,
      "outputs": [
        {
          "output_type": "execute_result",
          "data": {
            "text/plain": [
              "tensor([[[ 1,  2,  3,  4],\n",
              "         [ 5,  6,  7,  8],\n",
              "         [ 9, 10, 11, 12]],\n",
              "\n",
              "        [[13, 14, 15, 16],\n",
              "         [17, 18, 19, 20],\n",
              "         [21, 22, 23, 24]]])"
            ]
          },
          "metadata": {},
          "execution_count": 27
        }
      ]
    },
    {
      "cell_type": "code",
      "metadata": {
        "colab": {
          "base_uri": "https://localhost:8080/"
        },
        "id": "finite-frame",
        "outputId": "ff9fd49f-3ebe-454a-caad-f200f5881fcf"
      },
      "source": [
        "A.shape"
      ],
      "id": "finite-frame",
      "execution_count": 28,
      "outputs": [
        {
          "output_type": "execute_result",
          "data": {
            "text/plain": [
              "torch.Size([2, 3, 4])"
            ]
          },
          "metadata": {},
          "execution_count": 28
        }
      ]
    },
    {
      "cell_type": "code",
      "metadata": {
        "id": "stuck-center"
      },
      "source": [
        "A_t = A.transpose(0, 1)"
      ],
      "id": "stuck-center",
      "execution_count": 29,
      "outputs": []
    },
    {
      "cell_type": "code",
      "metadata": {
        "colab": {
          "base_uri": "https://localhost:8080/"
        },
        "id": "italian-skating",
        "outputId": "3d26d876-b8eb-4694-c94b-e3b8572705b7"
      },
      "source": [
        "A_t"
      ],
      "id": "italian-skating",
      "execution_count": 30,
      "outputs": [
        {
          "output_type": "execute_result",
          "data": {
            "text/plain": [
              "tensor([[[ 1,  2,  3,  4],\n",
              "         [13, 14, 15, 16]],\n",
              "\n",
              "        [[ 5,  6,  7,  8],\n",
              "         [17, 18, 19, 20]],\n",
              "\n",
              "        [[ 9, 10, 11, 12],\n",
              "         [21, 22, 23, 24]]])"
            ]
          },
          "metadata": {},
          "execution_count": 30
        }
      ]
    },
    {
      "cell_type": "code",
      "metadata": {
        "colab": {
          "base_uri": "https://localhost:8080/"
        },
        "id": "sought-narrow",
        "outputId": "c7f40cd5-a905-4d01-d687-6e1367555e72"
      },
      "source": [
        "A_t.shape"
      ],
      "id": "sought-narrow",
      "execution_count": 31,
      "outputs": [
        {
          "output_type": "execute_result",
          "data": {
            "text/plain": [
              "torch.Size([3, 2, 4])"
            ]
          },
          "metadata": {},
          "execution_count": 31
        }
      ]
    },
    {
      "cell_type": "markdown",
      "metadata": {
        "id": "promotional-biology"
      },
      "source": [
        "# Storage"
      ],
      "id": "promotional-biology"
    },
    {
      "cell_type": "code",
      "metadata": {
        "id": "advised-flour"
      },
      "source": [
        "x = torch.tensor([[1,2,3],[4,5,6]])"
      ],
      "id": "advised-flour",
      "execution_count": 32,
      "outputs": []
    },
    {
      "cell_type": "code",
      "metadata": {
        "colab": {
          "base_uri": "https://localhost:8080/"
        },
        "id": "black-stream",
        "outputId": "44f85311-8413-418a-d744-7b3654b01f88"
      },
      "source": [
        "x.storage()"
      ],
      "id": "black-stream",
      "execution_count": 33,
      "outputs": [
        {
          "output_type": "execute_result",
          "data": {
            "text/plain": [
              " 1\n",
              " 2\n",
              " 3\n",
              " 4\n",
              " 5\n",
              " 6\n",
              "[torch.LongStorage of size 6]"
            ]
          },
          "metadata": {},
          "execution_count": 33
        }
      ]
    },
    {
      "cell_type": "code",
      "metadata": {
        "colab": {
          "base_uri": "https://localhost:8080/"
        },
        "id": "nuclear-norman",
        "outputId": "92259de9-fc76-489e-8e14-ca9027f19244"
      },
      "source": [
        "x[1][2] == x.storage()[5]"
      ],
      "id": "nuclear-norman",
      "execution_count": 34,
      "outputs": [
        {
          "output_type": "execute_result",
          "data": {
            "text/plain": [
              "tensor(True)"
            ]
          },
          "metadata": {},
          "execution_count": 34
        }
      ]
    },
    {
      "cell_type": "markdown",
      "metadata": {
        "id": "personal-corpus"
      },
      "source": [
        "# Tensor metadata: Size, offset, stride"
      ],
      "id": "personal-corpus"
    },
    {
      "cell_type": "code",
      "metadata": {
        "id": "inner-vertical"
      },
      "source": [
        "x = torch.tensor([[3, 1, 2], [4, 1, 7]])"
      ],
      "id": "inner-vertical",
      "execution_count": 35,
      "outputs": []
    },
    {
      "cell_type": "code",
      "metadata": {
        "colab": {
          "base_uri": "https://localhost:8080/"
        },
        "id": "solid-andrew",
        "outputId": "f925f38c-14a1-4ce5-e4b7-5043f115dfa0"
      },
      "source": [
        "x"
      ],
      "id": "solid-andrew",
      "execution_count": 36,
      "outputs": [
        {
          "output_type": "execute_result",
          "data": {
            "text/plain": [
              "tensor([[3, 1, 2],\n",
              "        [4, 1, 7]])"
            ]
          },
          "metadata": {},
          "execution_count": 36
        }
      ]
    },
    {
      "cell_type": "code",
      "metadata": {
        "id": "blank-newfoundland"
      },
      "source": [
        "x_t = x.t()"
      ],
      "id": "blank-newfoundland",
      "execution_count": 37,
      "outputs": []
    },
    {
      "cell_type": "code",
      "metadata": {
        "colab": {
          "base_uri": "https://localhost:8080/"
        },
        "id": "complex-registration",
        "outputId": "1c8d40c9-e444-47e9-a26e-dfd62f922ac6"
      },
      "source": [
        "x_t"
      ],
      "id": "complex-registration",
      "execution_count": 38,
      "outputs": [
        {
          "output_type": "execute_result",
          "data": {
            "text/plain": [
              "tensor([[3, 4],\n",
              "        [1, 1],\n",
              "        [2, 7]])"
            ]
          },
          "metadata": {},
          "execution_count": 38
        }
      ]
    },
    {
      "cell_type": "code",
      "metadata": {
        "colab": {
          "base_uri": "https://localhost:8080/"
        },
        "id": "heated-hollywood",
        "outputId": "e688c97c-4b8e-46b0-ffc4-0bef499b70ed"
      },
      "source": [
        "id(x.storage()) == id(x_t.storage())"
      ],
      "id": "heated-hollywood",
      "execution_count": 39,
      "outputs": [
        {
          "output_type": "execute_result",
          "data": {
            "text/plain": [
              "True"
            ]
          },
          "metadata": {},
          "execution_count": 39
        }
      ]
    },
    {
      "cell_type": "code",
      "metadata": {
        "colab": {
          "base_uri": "https://localhost:8080/"
        },
        "id": "separate-memory",
        "outputId": "e9e3e6b3-5fc9-4956-d35b-7911c8eb4ff6"
      },
      "source": [
        "x.stride(), x_t.stride()"
      ],
      "id": "separate-memory",
      "execution_count": 40,
      "outputs": [
        {
          "output_type": "execute_result",
          "data": {
            "text/plain": [
              "((3, 1), (1, 3))"
            ]
          },
          "metadata": {},
          "execution_count": 40
        }
      ]
    },
    {
      "cell_type": "markdown",
      "metadata": {
        "id": "earlier-spine"
      },
      "source": [
        "# Contiguous Tensors"
      ],
      "id": "earlier-spine"
    },
    {
      "cell_type": "code",
      "metadata": {
        "colab": {
          "base_uri": "https://localhost:8080/"
        },
        "id": "nearby-cambridge",
        "outputId": "15286393-6eb8-44fa-d6a2-b10e8c5eda99"
      },
      "source": [
        "x.is_contiguous()"
      ],
      "id": "nearby-cambridge",
      "execution_count": 41,
      "outputs": [
        {
          "output_type": "execute_result",
          "data": {
            "text/plain": [
              "True"
            ]
          },
          "metadata": {},
          "execution_count": 41
        }
      ]
    },
    {
      "cell_type": "code",
      "metadata": {
        "colab": {
          "base_uri": "https://localhost:8080/"
        },
        "id": "scenic-value",
        "outputId": "94c6e7a6-c579-4db2-d808-e4449d37932b"
      },
      "source": [
        "x_t.is_contiguous()"
      ],
      "id": "scenic-value",
      "execution_count": 42,
      "outputs": [
        {
          "output_type": "execute_result",
          "data": {
            "text/plain": [
              "False"
            ]
          },
          "metadata": {},
          "execution_count": 42
        }
      ]
    },
    {
      "cell_type": "code",
      "metadata": {
        "colab": {
          "base_uri": "https://localhost:8080/"
        },
        "id": "graduate-camel",
        "outputId": "ec52814a-d541-4d1b-8d7e-b710bd689d3a"
      },
      "source": [
        "x_t"
      ],
      "id": "graduate-camel",
      "execution_count": 43,
      "outputs": [
        {
          "output_type": "execute_result",
          "data": {
            "text/plain": [
              "tensor([[3, 4],\n",
              "        [1, 1],\n",
              "        [2, 7]])"
            ]
          },
          "metadata": {},
          "execution_count": 43
        }
      ]
    },
    {
      "cell_type": "code",
      "metadata": {
        "id": "consolidated-seeker"
      },
      "source": [
        "x_t_con = x_t.contiguous()"
      ],
      "id": "consolidated-seeker",
      "execution_count": 44,
      "outputs": []
    },
    {
      "cell_type": "code",
      "metadata": {
        "colab": {
          "base_uri": "https://localhost:8080/"
        },
        "id": "enhanced-ideal",
        "outputId": "5233b95d-6a98-4aa0-83fb-4d7b8c52d3e5"
      },
      "source": [
        "x_t_con"
      ],
      "id": "enhanced-ideal",
      "execution_count": 45,
      "outputs": [
        {
          "output_type": "execute_result",
          "data": {
            "text/plain": [
              "tensor([[3, 4],\n",
              "        [1, 1],\n",
              "        [2, 7]])"
            ]
          },
          "metadata": {},
          "execution_count": 45
        }
      ]
    },
    {
      "cell_type": "code",
      "metadata": {
        "colab": {
          "base_uri": "https://localhost:8080/"
        },
        "id": "intense-pickup",
        "outputId": "cc344c39-1bed-4183-8cd8-d1cd426eebe0"
      },
      "source": [
        "x_t_con.is_contiguous()"
      ],
      "id": "intense-pickup",
      "execution_count": 46,
      "outputs": [
        {
          "output_type": "execute_result",
          "data": {
            "text/plain": [
              "True"
            ]
          },
          "metadata": {},
          "execution_count": 46
        }
      ]
    },
    {
      "cell_type": "code",
      "metadata": {
        "colab": {
          "base_uri": "https://localhost:8080/"
        },
        "id": "numerical-horizon",
        "outputId": "cd8af62f-acad-4884-8d99-a51758a0221f"
      },
      "source": [
        "x_t.storage()"
      ],
      "id": "numerical-horizon",
      "execution_count": 47,
      "outputs": [
        {
          "output_type": "execute_result",
          "data": {
            "text/plain": [
              " 3\n",
              " 1\n",
              " 2\n",
              " 4\n",
              " 1\n",
              " 7\n",
              "[torch.LongStorage of size 6]"
            ]
          },
          "metadata": {},
          "execution_count": 47
        }
      ]
    },
    {
      "cell_type": "code",
      "metadata": {
        "colab": {
          "base_uri": "https://localhost:8080/"
        },
        "id": "round-audience",
        "outputId": "6393e6d6-7fbf-48e7-878c-4fe6400d0aa4"
      },
      "source": [
        "x_t_con.storage()"
      ],
      "id": "round-audience",
      "execution_count": 48,
      "outputs": [
        {
          "output_type": "execute_result",
          "data": {
            "text/plain": [
              " 3\n",
              " 4\n",
              " 1\n",
              " 1\n",
              " 2\n",
              " 7\n",
              "[torch.LongStorage of size 6]"
            ]
          },
          "metadata": {},
          "execution_count": 48
        }
      ]
    },
    {
      "cell_type": "markdown",
      "metadata": {
        "id": "WQcxu2gNyJUs"
      },
      "source": [
        "# Torch GPU"
      ],
      "id": "WQcxu2gNyJUs"
    },
    {
      "cell_type": "code",
      "metadata": {
        "id": "J-kvqyWTyOM5"
      },
      "source": [
        "x_gpu = torch.tensor([[4.0, 1.0], [5.0, 3.0], [2.0, 1.0]], device='cuda')"
      ],
      "id": "J-kvqyWTyOM5",
      "execution_count": 49,
      "outputs": []
    },
    {
      "cell_type": "code",
      "metadata": {
        "colab": {
          "base_uri": "https://localhost:8080/"
        },
        "id": "fhdWyav6yQul",
        "outputId": "29f94b94-80c9-48fa-951c-fdf57b934711"
      },
      "source": [
        "x_gpu"
      ],
      "id": "fhdWyav6yQul",
      "execution_count": 50,
      "outputs": [
        {
          "output_type": "execute_result",
          "data": {
            "text/plain": [
              "tensor([[4., 1.],\n",
              "        [5., 3.],\n",
              "        [2., 1.]], device='cuda:0')"
            ]
          },
          "metadata": {},
          "execution_count": 50
        }
      ]
    },
    {
      "cell_type": "code",
      "metadata": {
        "colab": {
          "base_uri": "https://localhost:8080/"
        },
        "id": "9qEPTELqySOI",
        "outputId": "04882da9-aece-418c-9e2e-b35b8b60776c"
      },
      "source": [
        "x = torch.tensor([[4.0, 1.0], [5.0, 3.0], [2.0, 1.0]])\n",
        "x"
      ],
      "id": "9qEPTELqySOI",
      "execution_count": 51,
      "outputs": [
        {
          "output_type": "execute_result",
          "data": {
            "text/plain": [
              "tensor([[4., 1.],\n",
              "        [5., 3.],\n",
              "        [2., 1.]])"
            ]
          },
          "metadata": {},
          "execution_count": 51
        }
      ]
    },
    {
      "cell_type": "code",
      "metadata": {
        "colab": {
          "base_uri": "https://localhost:8080/"
        },
        "id": "KWF9I8xkySZw",
        "outputId": "9b43d577-47e2-4eb3-e0bc-31354fbec330"
      },
      "source": [
        "x_gpu = x.to(device='cuda')\n",
        "x_gpu"
      ],
      "id": "KWF9I8xkySZw",
      "execution_count": 52,
      "outputs": [
        {
          "output_type": "execute_result",
          "data": {
            "text/plain": [
              "tensor([[4., 1.],\n",
              "        [5., 3.],\n",
              "        [2., 1.]], device='cuda:0')"
            ]
          },
          "metadata": {},
          "execution_count": 52
        }
      ]
    },
    {
      "cell_type": "code",
      "metadata": {
        "colab": {
          "base_uri": "https://localhost:8080/"
        },
        "id": "JQQ__vG9ySf5",
        "outputId": "adf8ab35-7c99-4dd0-bf5c-d0c22930de8c"
      },
      "source": [
        "x_cpu = x_gpu.to(device='cpu')\n",
        "x_cpu"
      ],
      "id": "JQQ__vG9ySf5",
      "execution_count": 53,
      "outputs": [
        {
          "output_type": "execute_result",
          "data": {
            "text/plain": [
              "tensor([[4., 1.],\n",
              "        [5., 3.],\n",
              "        [2., 1.]])"
            ]
          },
          "metadata": {},
          "execution_count": 53
        }
      ]
    },
    {
      "cell_type": "code",
      "metadata": {
        "colab": {
          "base_uri": "https://localhost:8080/"
        },
        "id": "o2W58IYcySmN",
        "outputId": "cf27d783-1a4a-4369-f420-0f9f0cb17964"
      },
      "source": [
        "x_cpu = x_gpu.cpu()\n",
        "x_cpu"
      ],
      "id": "o2W58IYcySmN",
      "execution_count": 54,
      "outputs": [
        {
          "output_type": "execute_result",
          "data": {
            "text/plain": [
              "tensor([[4., 1.],\n",
              "        [5., 3.],\n",
              "        [2., 1.]])"
            ]
          },
          "metadata": {},
          "execution_count": 54
        }
      ]
    },
    {
      "cell_type": "markdown",
      "metadata": {
        "id": "honey-toolbox"
      },
      "source": [
        "# Torch to Numpy"
      ],
      "id": "honey-toolbox"
    },
    {
      "cell_type": "code",
      "metadata": {
        "id": "essential-catch"
      },
      "source": [
        "x = torch.tensor([1,2,3])"
      ],
      "id": "essential-catch",
      "execution_count": 55,
      "outputs": []
    },
    {
      "cell_type": "code",
      "metadata": {
        "id": "statistical-career"
      },
      "source": [
        "x_np = x.numpy()"
      ],
      "id": "statistical-career",
      "execution_count": 56,
      "outputs": []
    },
    {
      "cell_type": "code",
      "metadata": {
        "colab": {
          "base_uri": "https://localhost:8080/"
        },
        "id": "likely-windows",
        "outputId": "1bfddc08-a014-45dd-be32-3e136409555d"
      },
      "source": [
        "x_np"
      ],
      "id": "likely-windows",
      "execution_count": 57,
      "outputs": [
        {
          "output_type": "execute_result",
          "data": {
            "text/plain": [
              "array([1, 2, 3])"
            ]
          },
          "metadata": {},
          "execution_count": 57
        }
      ]
    },
    {
      "cell_type": "code",
      "metadata": {
        "colab": {
          "base_uri": "https://localhost:8080/"
        },
        "id": "x0s1koznyyvh",
        "outputId": "a010509b-1dec-4aa4-f436-6431309ac62e"
      },
      "source": [
        "x[1] = 0\n",
        "x, x_np"
      ],
      "id": "x0s1koznyyvh",
      "execution_count": 58,
      "outputs": [
        {
          "output_type": "execute_result",
          "data": {
            "text/plain": [
              "(tensor([1, 0, 3]), array([1, 0, 3]))"
            ]
          },
          "metadata": {},
          "execution_count": 58
        }
      ]
    },
    {
      "cell_type": "code",
      "metadata": {
        "id": "returning-consent"
      },
      "source": [
        "x_np = np.array([1, 2, 3])"
      ],
      "id": "returning-consent",
      "execution_count": 59,
      "outputs": []
    },
    {
      "cell_type": "code",
      "metadata": {
        "id": "subjective-chest"
      },
      "source": [
        "x_cpu = torch.from_numpy(x_np)"
      ],
      "id": "subjective-chest",
      "execution_count": 60,
      "outputs": []
    },
    {
      "cell_type": "code",
      "metadata": {
        "id": "wrapped-literature"
      },
      "source": [
        "x_gpu = torch.tensor([1, 2, 3], device='cuda')"
      ],
      "id": "wrapped-literature",
      "execution_count": 61,
      "outputs": []
    },
    {
      "cell_type": "code",
      "metadata": {
        "colab": {
          "base_uri": "https://localhost:8080/",
          "height": 165
        },
        "id": "LVlHA5TUylJB",
        "outputId": "a53f8fdf-d276-48bc-c977-3c04023bf7a1"
      },
      "source": [
        "x_np = x_gpu.numpy()"
      ],
      "id": "LVlHA5TUylJB",
      "execution_count": 62,
      "outputs": [
        {
          "output_type": "error",
          "ename": "TypeError",
          "evalue": "ignored",
          "traceback": [
            "\u001b[0;31m---------------------------------------------------------------------------\u001b[0m",
            "\u001b[0;31mTypeError\u001b[0m                                 Traceback (most recent call last)",
            "\u001b[0;32m<ipython-input-62-7c80bd041dd2>\u001b[0m in \u001b[0;36m<module>\u001b[0;34m()\u001b[0m\n\u001b[0;32m----> 1\u001b[0;31m \u001b[0mx_np\u001b[0m \u001b[0;34m=\u001b[0m \u001b[0mx_gpu\u001b[0m\u001b[0;34m.\u001b[0m\u001b[0mnumpy\u001b[0m\u001b[0;34m(\u001b[0m\u001b[0;34m)\u001b[0m\u001b[0;34m\u001b[0m\u001b[0;34m\u001b[0m\u001b[0m\n\u001b[0m",
            "\u001b[0;31mTypeError\u001b[0m: can't convert cuda:0 device type tensor to numpy. Use Tensor.cpu() to copy the tensor to host memory first."
          ]
        }
      ]
    },
    {
      "cell_type": "code",
      "metadata": {
        "id": "D7mfdtBhynmn"
      },
      "source": [
        "x_np = x_gpu.cpu().numpy()"
      ],
      "id": "D7mfdtBhynmn",
      "execution_count": 63,
      "outputs": []
    },
    {
      "cell_type": "code",
      "metadata": {
        "colab": {
          "base_uri": "https://localhost:8080/"
        },
        "id": "xQvXIsY1yp3f",
        "outputId": "36ad2104-e0b3-4a62-da3e-84a6d63dc795"
      },
      "source": [
        "x_np"
      ],
      "id": "xQvXIsY1yp3f",
      "execution_count": 64,
      "outputs": [
        {
          "output_type": "execute_result",
          "data": {
            "text/plain": [
              "array([1, 2, 3])"
            ]
          },
          "metadata": {},
          "execution_count": 64
        }
      ]
    },
    {
      "cell_type": "code",
      "metadata": {
        "id": "TafZwAyQyqmv"
      },
      "source": [
        "x_gpu[1] = 0"
      ],
      "id": "TafZwAyQyqmv",
      "execution_count": 65,
      "outputs": []
    },
    {
      "cell_type": "code",
      "metadata": {
        "colab": {
          "base_uri": "https://localhost:8080/"
        },
        "id": "vBtbhK0iys0d",
        "outputId": "0c123d8a-e677-4b5d-ab54-1a308eaf35f2"
      },
      "source": [
        "x_gpu, x_np"
      ],
      "id": "vBtbhK0iys0d",
      "execution_count": 66,
      "outputs": [
        {
          "output_type": "execute_result",
          "data": {
            "text/plain": [
              "(tensor([1, 0, 3], device='cuda:0'), array([1, 2, 3]))"
            ]
          },
          "metadata": {},
          "execution_count": 66
        }
      ]
    }
  ]
}